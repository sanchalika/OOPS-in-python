{
 "cells": [
  {
   "cell_type": "markdown",
   "metadata": {},
   "source": [
    "# Object oriented Programmimng in Python\n"
   ]
  },
  {
   "cell_type": "markdown",
   "metadata": {},
   "source": [
    "1 .  Variables , Objects and garbage collection\n",
    " --"
   ]
  },
  {
   "cell_type": "code",
   "execution_count": 6,
   "metadata": {},
   "outputs": [],
   "source": [
    "a = 3\n",
    "a = 10\n",
    "a = \"hello\"\n",
    "a = [1,2,3]\n",
    "\n",
    "a = [4,5,6]\n"
   ]
  },
  {
   "cell_type": "code",
   "execution_count": 7,
   "metadata": {},
   "outputs": [
    {
     "name": "stdout",
     "output_type": "stream",
     "text": [
      "[4, 5, 6]\n"
     ]
    }
   ],
   "source": [
    "print(a)"
   ]
  },
  {
   "cell_type": "markdown",
   "metadata": {},
   "source": [
    "2 . Shared references with immutable and mutable types\n",
    "--"
   ]
  },
  {
   "cell_type": "code",
   "execution_count": 8,
   "metadata": {},
   "outputs": [
    {
     "name": "stdout",
     "output_type": "stream",
     "text": [
      "5\n",
      "3\n"
     ]
    }
   ],
   "source": [
    "a=3\n",
    "b=a\n",
    "a=5\n",
    "print(a)\n",
    "print(b)\n"
   ]
  },
  {
   "cell_type": "code",
   "execution_count": 9,
   "metadata": {},
   "outputs": [
    {
     "name": "stdout",
     "output_type": "stream",
     "text": [
      "[1, 2, 3, 4]\n",
      "[1, 2, 3, 4]\n"
     ]
    }
   ],
   "source": [
    "a=[1,2,3]\n",
    "b=a\n",
    "\n",
    "a.append(4)\n",
    "print(a)\n",
    "print(b)\n"
   ]
  },
  {
   "cell_type": "code",
   "execution_count": 10,
   "metadata": {},
   "outputs": [],
   "source": [
    "b.append(5)"
   ]
  },
  {
   "cell_type": "code",
   "execution_count": 11,
   "metadata": {},
   "outputs": [
    {
     "name": "stdout",
     "output_type": "stream",
     "text": [
      "[1, 2, 3, 4, 5]\n",
      "[1, 2, 3, 4, 5]\n"
     ]
    }
   ],
   "source": [
    "print(a)\n",
    "print(b)"
   ]
  },
  {
   "cell_type": "markdown",
   "metadata": {},
   "source": [
    "3 . Equality vs. Identity\n",
    "--"
   ]
  },
  {
   "cell_type": "code",
   "execution_count": 12,
   "metadata": {},
   "outputs": [
    {
     "name": "stdout",
     "output_type": "stream",
     "text": [
      "True\n",
      "False\n",
      "True\n",
      "False\n"
     ]
    }
   ],
   "source": [
    "students = [\"Bob\",\"sally\",\"Sue\"]\n",
    "athelets = students\n",
    "nerds = [\"Bob\",\"Sally\",\"Sue\"]\n",
    "print(students==athelets)\n",
    "print(students==nerds)\n",
    "print(students is athelets)\n",
    "print(students is nerds)"
   ]
  },
  {
   "cell_type": "code",
   "execution_count": 13,
   "metadata": {},
   "outputs": [
    {
     "name": "stdout",
     "output_type": "stream",
     "text": [
      "True\n",
      "True\n",
      "True\n",
      "False\n",
      "True\n",
      "True\n"
     ]
    }
   ],
   "source": [
    "a = 1\n",
    "b = 1\n",
    "print(a == 1)\n",
    "print(a is b)\n",
    "a = 3.14\n",
    "b = 3.14\n",
    "print(a == b)\n",
    "print(a is b)\n",
    "a = \"hello\"\n",
    "b = \"hello\"\n",
    "print(a == b)\n",
    "print(a is b)\n"
   ]
  },
  {
   "cell_type": "markdown",
   "metadata": {},
   "source": [
    "4 . Shallow and deep copies\n",
    "--"
   ]
  },
  {
   "cell_type": "code",
   "execution_count": 14,
   "metadata": {},
   "outputs": [
    {
     "name": "stdout",
     "output_type": "stream",
     "text": [
      "True\n",
      "False\n"
     ]
    }
   ],
   "source": [
    "a = [1,2,3]\n",
    "\n",
    "b = a[:]\n",
    "print(a==b)\n",
    "print(a is b)"
   ]
  },
  {
   "cell_type": "code",
   "execution_count": 15,
   "metadata": {},
   "outputs": [
    {
     "name": "stdout",
     "output_type": "stream",
     "text": [
      "True\n",
      "False\n",
      "True\n",
      "False\n"
     ]
    }
   ],
   "source": [
    "import copy\n",
    "c= a.copy()\n",
    "print(a==c)\n",
    "print(a is c)\n",
    "d = copy.copy(a)\n",
    "print(a==d)\n",
    "print(a is d)\n"
   ]
  },
  {
   "cell_type": "code",
   "execution_count": 16,
   "metadata": {},
   "outputs": [
    {
     "name": "stdout",
     "output_type": "stream",
     "text": [
      "True\n",
      "False\n",
      "False\n",
      "[1, [2, 3, 4], 5]\n"
     ]
    }
   ],
   "source": [
    "numbers = [2,3,4]\n",
    "a = [1,numbers,5]\n",
    "b = a[:]\n",
    "b = a.copy()\n",
    "b = copy.copy(a)\n",
    "b = copy.deepcopy(a)\n",
    "print(a==b)\n",
    "print(a is b)\n",
    "print(a[1] is b[1])\n",
    "a[1].append(100)\n",
    "print(b)"
   ]
  },
  {
   "cell_type": "code",
   "execution_count": 17,
   "metadata": {},
   "outputs": [
    {
     "name": "stdout",
     "output_type": "stream",
     "text": [
      "[1, [2, 3, 4], 5]\n",
      "[1, [2, 3, 4, 100, 100], 5]\n"
     ]
    }
   ],
   "source": [
    "a[1].append(100)\n",
    "print(b)\n",
    "print(a)"
   ]
  },
  {
   "cell_type": "markdown",
   "metadata": {},
   "source": [
    "Dictionary \n",
    "--"
   ]
  },
  {
   "cell_type": "markdown",
   "metadata": {},
   "source": [
    "- also known as hashmap, map, associated array in other languages\n",
    "- An unordered data structure for declaring relationships between objects.\n",
    "- A mutable data structure consisting of pairs of keys and values.\n",
    "- A value is any python object.\n",
    "\n",
    "Keys vs. values\n",
    "--\n",
    "\n",
    "- keys are unique, values can be duplicates.\n",
    "- keys must be immutable types(strings, integers, floats,tuples)\n",
    "  values can be any data types\n",
    "  \n",
    "Dictionaries vs. Lists\n",
    "--\n",
    "- Both lists and dictionaries are mutable. A dictionary can have ley values pairs added, removed or modified.\n",
    "- Unlike a list, a dictionary is not ordered. A dictionary is used for mappings while a list is used for order."
   ]
  },
  {
   "cell_type": "code",
   "execution_count": null,
   "metadata": {},
   "outputs": [],
   "source": []
  },
  {
   "cell_type": "markdown",
   "metadata": {},
   "source": [
    "5 . Access a dictionary value by key or the get Method\n",
    "--"
   ]
  },
  {
   "cell_type": "code",
   "execution_count": 24,
   "metadata": {},
   "outputs": [
    {
     "name": "stdout",
     "output_type": "stream",
     "text": [
      "199\n",
      "295\n"
     ]
    }
   ],
   "source": [
    "flight_prices = {\n",
    "    \"Chicago\": 199,\n",
    "    \"San Francisco\": 499,\n",
    "    \"Denver\":295\n",
    "}\n",
    "print(flight_prices[\"Chicago\"])\n",
    "print(flight_prices[\"Denver\"])\n"
   ]
  },
  {
   "cell_type": "code",
   "execution_count": 28,
   "metadata": {},
   "outputs": [
    {
     "name": "stdout",
     "output_type": "stream",
     "text": [
      "['Machines', 'Vitamin supplements']\n"
     ]
    }
   ],
   "source": [
    "gym_packages = {\n",
    "    29: [\"Machines\"],\n",
    "    49: [\"Machines\",\"Vitamin supplements\"],\n",
    "    79: [\"Machines\", \"vitamin Supplements\", \"Sauna\"]\n",
    "}\n",
    "print(gym_packages[49])\n"
   ]
  },
  {
   "cell_type": "code",
   "execution_count": 29,
   "metadata": {},
   "outputs": [
    {
     "name": "stdout",
     "output_type": "stream",
     "text": [
      "['Machines']\n"
     ]
    }
   ],
   "source": [
    "print(gym_packages.get(29, [\"basic Dumbles\"]))"
   ]
  },
  {
   "cell_type": "code",
   "execution_count": 30,
   "metadata": {},
   "outputs": [
    {
     "name": "stdout",
     "output_type": "stream",
     "text": [
      "['basic Dumbles']\n"
     ]
    }
   ],
   "source": [
    "print(gym_packages.get(100, [\"basic Dumbles\"]))"
   ]
  },
  {
   "cell_type": "markdown",
   "metadata": {},
   "source": [
    "6 . The In and NOt In operators in a dictionary\n",
    "--"
   ]
  },
  {
   "cell_type": "code",
   "execution_count": 31,
   "metadata": {},
   "outputs": [
    {
     "name": "stdout",
     "output_type": "stream",
     "text": [
      "True\n",
      "False\n"
     ]
    }
   ],
   "source": [
    "print(\"erm\" in \"watermelon\")\n",
    "print(\"z\" in \"watermelon\")"
   ]
  },
  {
   "cell_type": "code",
   "execution_count": 33,
   "metadata": {},
   "outputs": [
    {
     "name": "stdout",
     "output_type": "stream",
     "text": [
      "True\n"
     ]
    }
   ],
   "source": [
    "pokemon = {\n",
    "    \"Fire\": [\"charmander\", \"Charmelon\", \"Charizard\"],\n",
    "    \"water\":[\"Squirtle\", \"Warturtle\", \"Blastoise\"],\n",
    "    \"Grass\": [\"Bulbasaur\",\"Venusaur\",\"Ivysaur\"]\n",
    "}\n",
    "print(\"Fire\" in pokemon)"
   ]
  },
  {
   "cell_type": "code",
   "execution_count": 34,
   "metadata": {},
   "outputs": [
    {
     "name": "stdout",
     "output_type": "stream",
     "text": [
      "not found\n"
     ]
    }
   ],
   "source": [
    "if \"Zombie\" in pokemon:\n",
    "    print(pokemon[\"zombie\"])\n",
    "else:\n",
    "    print(\"not found\")"
   ]
  },
  {
   "cell_type": "markdown",
   "metadata": {},
   "source": [
    "7 . Add or modify key value pair in a dictionary\n",
    "--"
   ]
  },
  {
   "cell_type": "code",
   "execution_count": 35,
   "metadata": {},
   "outputs": [
    {
     "name": "stdout",
     "output_type": "stream",
     "text": [
      "{'New England Patriots': ['Tom', 'Rob', 'Julian'], 'Giants': ['Eli', 'Odell'], 'pittsburgh': ['Ben', 'Antonio']}\n"
     ]
    }
   ],
   "source": [
    "sports = {\n",
    "    \"New England Patriots\": [\"Tom\", \"Rob\", \"Julian\"],\n",
    "    \"Giants\":[\"Eli\", \"Odell\"]\n",
    "}\n",
    "sports[\"pittsburgh\"]=[\"Ben\", \"Antonio\"]\n",
    "print(sports)"
   ]
  },
  {
   "cell_type": "code",
   "execution_count": 36,
   "metadata": {},
   "outputs": [
    {
     "name": "stdout",
     "output_type": "stream",
     "text": [
      "{'subtitles': True, 'difficulty': 'Medium', 'volume': 7}\n"
     ]
    }
   ],
   "source": [
    "video_game = {}\n",
    "#video_game = dict()\n",
    "\n",
    "video_game[\"subtitles\"]=True\n",
    "video_game[\"difficulty\"]=\"Medium\"\n",
    "video_game[\"volume\"]=7\n",
    "print(video_game)"
   ]
  },
  {
   "cell_type": "code",
   "execution_count": 38,
   "metadata": {},
   "outputs": [
    {
     "name": "stdout",
     "output_type": "stream",
     "text": [
      "{'subtitles': False, 'difficulty': 'Hard', 'volume': 7, 'Volume': 10}\n"
     ]
    }
   ],
   "source": [
    "video_game[\"difficulty\"]=\"Hard\"\n",
    "video_game[\"subtitles\"]= False\n",
    "video_game[\"Volume\"]=10\n",
    "print(video_game)"
   ]
  },
  {
   "cell_type": "code",
   "execution_count": 41,
   "metadata": {},
   "outputs": [
    {
     "name": "stdout",
     "output_type": "stream",
     "text": [
      "{'danger': 2, 'beware': 1}\n"
     ]
    }
   ],
   "source": [
    "words = [\"danger\", \"beware\",\"danger\"]\n",
    "def count_words(word):\n",
    "    counts = {}\n",
    "    for word in words:\n",
    "        if word in counts:\n",
    "            counts[word] +=1\n",
    "        else:\n",
    "            counts[word]=1\n",
    "    return counts\n",
    "    \n",
    "    \n",
    "print(count_words(words))"
   ]
  },
  {
   "cell_type": "markdown",
   "metadata": {},
   "source": [
    "8 . The set default Method\n",
    "--"
   ]
  },
  {
   "cell_type": "code",
   "execution_count": 44,
   "metadata": {},
   "outputs": [
    {
     "name": "stdout",
     "output_type": "stream",
     "text": [
      "Martin Scorsese\n",
      "Michael Bay\n",
      "{'The Godfather': 'Francis Ford Coppola', 'The Rock': 'Michael Bay', 'Goodfellas': 'Martin Scorsese'}\n"
     ]
    }
   ],
   "source": [
    "film_directors = {\n",
    "    \"The Godfather\": \"Francis Ford Coppola\",\n",
    "    \"The Rock\": \"Michael Bay\",\n",
    "    \"Goodfellas\": \"Martin Scorsese\"\n",
    "}\n",
    "print(film_directors.get(\"Goodfellas\"))\n",
    "print(film_directors.get(\"Bad Boys\", \"Michael Bay\"))\n",
    "print(film_directors)\n"
   ]
  },
  {
   "cell_type": "markdown",
   "metadata": {},
   "source": [
    "9 . The Pop Method\n",
    "--"
   ]
  },
  {
   "cell_type": "code",
   "execution_count": 45,
   "metadata": {},
   "outputs": [
    {
     "name": "stdout",
     "output_type": "stream",
     "text": [
      "[1991, 1995, 2000]\n"
     ]
    }
   ],
   "source": [
    "years = [1991,1995,2000,2007]\n",
    "years.pop()\n",
    "print(years)"
   ]
  },
  {
   "cell_type": "code",
   "execution_count": 51,
   "metadata": {},
   "outputs": [
    {
     "name": "stdout",
     "output_type": "stream",
     "text": [
      "{'Python': 1991, 'Ruby': 1995, 'Go': 2007}\n",
      "1995\n"
     ]
    }
   ],
   "source": [
    "release_dates = {\n",
    "    \"Python\": 1991,\n",
    "    \"Ruby\": 1995,\n",
    "    \"Java\": 1995,\n",
    "    \"Go\": 2007\n",
    "}\n",
    "year=release_dates.pop(\"Java\")\n",
    "print(release_dates)\n",
    "print(year)\n"
   ]
  },
  {
   "cell_type": "code",
   "execution_count": 52,
   "metadata": {},
   "outputs": [
    {
     "name": "stdout",
     "output_type": "stream",
     "text": [
      "{'Python': 1991, 'Ruby': 1995}\n",
      "1995\n"
     ]
    }
   ],
   "source": [
    "release_dates.pop(\"Go\")\n",
    "print(release_dates)\n",
    "if \"Rust\" in release_dates:\n",
    "    release_dates.pop(\"Rust\")\n",
    "    \n",
    "new_year = release_dates.pop(\"Ruby\",2000)\n",
    "print(new_year)\n"
   ]
  },
  {
   "cell_type": "code",
   "execution_count": 53,
   "metadata": {},
   "outputs": [
    {
     "ename": "KeyError",
     "evalue": "'Java'",
     "output_type": "error",
     "traceback": [
      "\u001b[1;31m---------------------------------------------------------------------------\u001b[0m",
      "\u001b[1;31mKeyError\u001b[0m                                  Traceback (most recent call last)",
      "\u001b[1;32m<ipython-input-53-d8117ecbcb60>\u001b[0m in \u001b[0;36m<module>\u001b[1;34m\u001b[0m\n\u001b[1;32m----> 1\u001b[1;33m \u001b[1;32mdel\u001b[0m \u001b[0mrelease_dates\u001b[0m\u001b[1;33m[\u001b[0m\u001b[1;34m\"Java\"\u001b[0m\u001b[1;33m]\u001b[0m\u001b[1;33m\u001b[0m\u001b[1;33m\u001b[0m\u001b[0m\n\u001b[0m\u001b[0;32m      2\u001b[0m \u001b[0mprint\u001b[0m\u001b[1;33m(\u001b[0m\u001b[0mrelease_dates\u001b[0m\u001b[1;33m)\u001b[0m\u001b[1;33m\u001b[0m\u001b[1;33m\u001b[0m\u001b[0m\n",
      "\u001b[1;31mKeyError\u001b[0m: 'Java'"
     ]
    }
   ],
   "source": [
    "del release_dates[\"Java\"]\n",
    "print(release_dates)"
   ]
  },
  {
   "cell_type": "markdown",
   "metadata": {},
   "source": [
    "10 . The Clear Method\n",
    "--"
   ]
  },
  {
   "cell_type": "code",
   "execution_count": 54,
   "metadata": {},
   "outputs": [
    {
     "name": "stdout",
     "output_type": "stream",
     "text": [
      "{}\n"
     ]
    }
   ],
   "source": [
    "websites = {\n",
    "    \"wikipedia\": \"https://www.wikepedia.org\",\n",
    "    \"Google\": \"https://www.google.com\"\n",
    "}\n",
    "websites.clear()\n",
    "print(websites)"
   ]
  },
  {
   "cell_type": "code",
   "execution_count": 56,
   "metadata": {},
   "outputs": [
    {
     "ename": "NameError",
     "evalue": "name 'websites' is not defined",
     "output_type": "error",
     "traceback": [
      "\u001b[1;31m---------------------------------------------------------------------------\u001b[0m",
      "\u001b[1;31mNameError\u001b[0m                                 Traceback (most recent call last)",
      "\u001b[1;32m<ipython-input-56-fb617b8d3d19>\u001b[0m in \u001b[0;36m<module>\u001b[1;34m\u001b[0m\n\u001b[0;32m      4\u001b[0m }\n\u001b[0;32m      5\u001b[0m \u001b[1;32mdel\u001b[0m \u001b[0mwebsites\u001b[0m\u001b[1;33m\u001b[0m\u001b[1;33m\u001b[0m\u001b[0m\n\u001b[1;32m----> 6\u001b[1;33m \u001b[0mprint\u001b[0m\u001b[1;33m(\u001b[0m\u001b[0mwebsites\u001b[0m\u001b[1;33m)\u001b[0m\u001b[1;33m\u001b[0m\u001b[1;33m\u001b[0m\u001b[0m\n\u001b[0m",
      "\u001b[1;31mNameError\u001b[0m: name 'websites' is not defined"
     ]
    }
   ],
   "source": [
    "websites = {\n",
    "    \"wikipedia\": \"https://www.wikepedia.org\",\n",
    "    \"Google\": \"https://www.google.com\"\n",
    "}\n",
    "del websites\n",
    "print(websites)"
   ]
  },
  {
   "cell_type": "markdown",
   "metadata": {},
   "source": [
    "11 . The update method\n",
    "--"
   ]
  },
  {
   "cell_type": "code",
   "execution_count": 58,
   "metadata": {},
   "outputs": [
    {
     "name": "stdout",
     "output_type": "stream",
     "text": [
      "{'Guido': 33333, 'James': 500000, 'Brad': 900000, 'yuki': 100000}\n",
      "{'yuki': 100000, 'Guido': 33333}\n"
     ]
    }
   ],
   "source": [
    "employee_salaries = {\n",
    "    \"Guido\": 100000,\n",
    "    \"James\": 500000,\n",
    "    \"Brad\": 900000\n",
    "}\n",
    "extra_salary = {\n",
    "    \"yuki\": 100000,\n",
    "    \"Guido\": 33333\n",
    "}\n",
    "employee_salaries.update(extra_salary)\n",
    "print(employee_salaries)\n",
    "print(extra_salary)"
   ]
  },
  {
   "cell_type": "code",
   "execution_count": 59,
   "metadata": {},
   "outputs": [
    {
     "name": "stdout",
     "output_type": "stream",
     "text": [
      "{'Guido': 100000, 'James': 500000, 'Brad': 900000}\n",
      "{'yuki': 100000, 'Guido': 33333}\n"
     ]
    }
   ],
   "source": [
    "employee_salaries = {\n",
    "    \"Guido\": 100000,\n",
    "    \"James\": 500000,\n",
    "    \"Brad\": 900000\n",
    "}\n",
    "extra_salary = {\n",
    "    \"yuki\": 100000,\n",
    "    \"Guido\": 33333\n",
    "}\n",
    "extra_salary.update(extra_salary)\n",
    "print(employee_salaries)\n",
    "print(extra_salary)"
   ]
  },
  {
   "cell_type": "markdown",
   "metadata": {},
   "source": [
    "12 . The Dict function\n",
    "--"
   ]
  },
  {
   "cell_type": "code",
   "execution_count": 60,
   "metadata": {},
   "outputs": [
    {
     "name": "stdout",
     "output_type": "stream",
     "text": [
      "['a', 'b', 'c']\n"
     ]
    }
   ],
   "source": [
    "print(list(\"abc\"))"
   ]
  },
  {
   "cell_type": "code",
   "execution_count": 61,
   "metadata": {},
   "outputs": [
    {
     "name": "stdout",
     "output_type": "stream",
     "text": [
      "9\n"
     ]
    }
   ],
   "source": [
    "print(str(9))"
   ]
  },
  {
   "cell_type": "code",
   "execution_count": 62,
   "metadata": {},
   "outputs": [
    {
     "name": "stdout",
     "output_type": "stream",
     "text": [
      "{}\n"
     ]
    }
   ],
   "source": [
    "print(dict())"
   ]
  },
  {
   "cell_type": "code",
   "execution_count": 63,
   "metadata": {},
   "outputs": [
    {
     "name": "stdout",
     "output_type": "stream",
     "text": [
      "{'Mary': 'Senior Manager', 'Brian': 'Vice President', 'Julie': 'Assistant Vice President'}\n"
     ]
    }
   ],
   "source": [
    "employee_titles = [\n",
    "    [\"Mary\", \"Senior Manager\"],\n",
    "    [\"Brian\", \"Vice President\"],\n",
    "    [\"Julie\", \"Assistant Vice President\"]\n",
    "]\n",
    "print(dict(employee_titles))"
   ]
  },
  {
   "cell_type": "markdown",
   "metadata": {},
   "source": [
    "13 . Nested Dictionaries\n",
    "--"
   ]
  },
  {
   "cell_type": "code",
   "execution_count": 64,
   "metadata": {},
   "outputs": [
    {
     "name": "stdout",
     "output_type": "stream",
     "text": [
      "{'The X-Files': {'season 1': {'Episodes': ['scary', 'Alien'], 'Genre': ['science Fiction'], 'year': 1993}, 'season 2': {'Episodes': ['scary conspiracy'], 'Genre': 'Horror', 'year': 1994}}}\n"
     ]
    }
   ],
   "source": [
    "tv_shows = {\n",
    "    \"The X-Files\": {\n",
    "        \"season 1\": {\n",
    "            \"Episodes\":[\"scary\", \"Alien\"],\n",
    "            \"Genre\": [\"science Fiction\"],\n",
    "            \"year\": 1993\n",
    "        },\n",
    "        \"season 2\": {\n",
    "            \"Episodes\":[\"scary conspiracy\"],\n",
    "            \"Genre\":\"Horror\",\n",
    "            \"year\": 1994\n",
    "        }\n",
    "               \n",
    "    }\n",
    "}\n",
    "print(tv_shows)"
   ]
  },
  {
   "cell_type": "code",
   "execution_count": 67,
   "metadata": {},
   "outputs": [
    {
     "name": "stdout",
     "output_type": "stream",
     "text": [
      "Alien\n"
     ]
    }
   ],
   "source": [
    "print(tv_shows[\"The X-Files\"][\"season 1\"][\"Episodes\"][1])"
   ]
  },
  {
   "cell_type": "markdown",
   "metadata": {},
   "source": [
    "14 . Iteration in a Dictionary\n",
    "--"
   ]
  },
  {
   "cell_type": "code",
   "execution_count": 1,
   "metadata": {},
   "outputs": [
    {
     "name": "stdout",
     "output_type": "stream",
     "text": [
      "The food is Sesame Chicken and its price is 9.99\n",
      "The food is Boneless Spare and its price is 7.99\n",
      "The food is fried rice and its price is 1.99\n"
     ]
    }
   ],
   "source": [
    "Chinese_food = {\n",
    "    \"Sesame Chicken\": 9.99,\n",
    "    \"Boneless Spare\": 7.99,\n",
    "    \"fried rice\": 1.99\n",
    "}\n",
    "for food in Chinese_food:\n",
    "    print(f\"The food is {food} and its price is {Chinese_food[food]}\")"
   ]
  },
  {
   "cell_type": "code",
   "execution_count": 5,
   "metadata": {},
   "outputs": [
    {
     "name": "stdout",
     "output_type": "stream",
     "text": [
      "5 pounds is equal to 2.26796 kilograms \n",
      "10 pounds is equal to 4.53592 kilograms \n",
      "25 pounds is equal to 11.3398 kilograms \n"
     ]
    }
   ],
   "source": [
    "pounds_to_kilograms={\n",
    "    5: 2.26796,\n",
    "    10:4.53592,\n",
    "    25: 11.3398\n",
    "}\n",
    "for value in pounds_to_kilograms:\n",
    "    print(f\"{value} pounds is equal to {pounds_to_kilograms[value]} kilograms \")\n",
    "    \n"
   ]
  },
  {
   "cell_type": "markdown",
   "metadata": {},
   "source": [
    "15 . The Items Method\n",
    "--"
   ]
  },
  {
   "cell_type": "code",
   "execution_count": 8,
   "metadata": {},
   "outputs": [
    {
     "name": "stdout",
     "output_type": "stream",
     "text": [
      "The course History is being taught by Mr.Washington.\n",
      "The course Math is being taught by mr. Newton.\n",
      "The course science is being taught by Mr. Eienstein.\n"
     ]
    }
   ],
   "source": [
    "college_course = {\n",
    "    \"History\": \"Mr.Washington\",\n",
    "    \"Math\": \"mr. Newton\",\n",
    "    \"science\": \"Mr. Eienstein\"\n",
    "}\n",
    "for course,professor in college_course.items():\n",
    "    print(f\"The course {course} is being taught by {professor}.\")"
   ]
  },
  {
   "cell_type": "code",
   "execution_count": 9,
   "metadata": {},
   "outputs": [
    {
     "name": "stdout",
     "output_type": "stream",
     "text": [
      "The next professor is Mr. Eienstein\n",
      "The next professor is Mr. Eienstein\n",
      "The next professor is Mr. Eienstein\n"
     ]
    }
   ],
   "source": [
    "for _,professsor in college_course.items():\n",
    "    print(f\"The next professor is {professor}\")"
   ]
  },
  {
   "cell_type": "markdown",
   "metadata": {},
   "source": [
    "16 . The keys and values method\n",
    "--"
   ]
  },
  {
   "cell_type": "code",
   "execution_count": 12,
   "metadata": {},
   "outputs": [
    {
     "name": "stdout",
     "output_type": "stream",
     "text": [
      "dict_keys(['Bitcoin', 'Ethereum', 'Litecoin'])\n",
      "<class 'dict_keys'>\n"
     ]
    }
   ],
   "source": [
    "crypto = {\n",
    "    \"Bitcoin\": 40000,\n",
    "    \"Ethereum\": 7000,\n",
    "    \"Litecoin\": 10\n",
    "}\n",
    "print(crypto.keys())\n",
    "print(type(crypto.keys()))\n"
   ]
  },
  {
   "cell_type": "code",
   "execution_count": 13,
   "metadata": {},
   "outputs": [
    {
     "name": "stdout",
     "output_type": "stream",
     "text": [
      "The next currency is Bitcoin\n",
      "The next currency is Ethereum\n",
      "The next currency is Litecoin\n",
      "The next price is 40000\n",
      "The next price is 7000\n",
      "The next price is 10\n"
     ]
    }
   ],
   "source": [
    "for currency in crypto.keys():\n",
    "    print(f\"The next currency is {currency}\")\n",
    "for price in crypto.values():\n",
    "    print(f\"The next price is {price}\")"
   ]
  },
  {
   "cell_type": "code",
   "execution_count": 14,
   "metadata": {},
   "outputs": [
    {
     "name": "stdout",
     "output_type": "stream",
     "text": [
      "True\n",
      "False\n"
     ]
    }
   ],
   "source": [
    "print(\"Bitcoin\" in crypto.keys())\n",
    "print(\"Ripple\" in crypto.values())"
   ]
  },
  {
   "cell_type": "code",
   "execution_count": 15,
   "metadata": {},
   "outputs": [
    {
     "name": "stdout",
     "output_type": "stream",
     "text": [
      "True\n",
      "False\n"
     ]
    }
   ],
   "source": [
    "print(40000 in crypto.values())\n",
    "print(5000 in crypto.values())"
   ]
  },
  {
   "cell_type": "code",
   "execution_count": 16,
   "metadata": {},
   "outputs": [
    {
     "name": "stdout",
     "output_type": "stream",
     "text": [
      "3\n",
      "3\n",
      "3\n"
     ]
    }
   ],
   "source": [
    "print(len(crypto.keys()))\n",
    "print(len(crypto.values()))\n",
    "print(len(crypto))"
   ]
  },
  {
   "cell_type": "markdown",
   "metadata": {},
   "source": [
    "17 . The sorted Functions\n",
    "--"
   ]
  },
  {
   "cell_type": "code",
   "execution_count": 17,
   "metadata": {},
   "outputs": [
    {
     "name": "stdout",
     "output_type": "stream",
     "text": [
      "[2, 4, 7, 9]\n",
      "[4, 7, 2, 9]\n"
     ]
    }
   ],
   "source": [
    "numbers = [4,7,2,9]\n",
    "print(sorted(numbers))\n",
    "print(numbers)"
   ]
  },
  {
   "cell_type": "code",
   "execution_count": 18,
   "metadata": {},
   "outputs": [
    {
     "name": "stdout",
     "output_type": "stream",
     "text": [
      "['CEO', 'Executive']\n",
      "{'Executive': 20, 'CEO': 100}\n"
     ]
    }
   ],
   "source": [
    "salaries = {\n",
    "    \"Executive\": 20,\n",
    "    \"CEO\": 100\n",
    "}\n",
    "print(sorted(salaries))\n",
    "print(salaries)"
   ]
  },
  {
   "cell_type": "code",
   "execution_count": 19,
   "metadata": {},
   "outputs": [
    {
     "name": "stdout",
     "output_type": "stream",
     "text": [
      "The next vehicle is a bus and it has 8 wheels.\n",
      "The next vehicle is a car and it has 4 wheels.\n",
      "The next vehicle is a truck and it has 2 wheels.\n"
     ]
    }
   ],
   "source": [
    "wheel_count = {\n",
    "    \"truck\":2,\n",
    "    \"car\": 4,\n",
    "    \"bus\": 8\n",
    "}\n",
    "for vehicle, count in sorted(wheel_count.items()):\n",
    "    print(f\"The next vehicle is a {vehicle} and it has {count} wheels.\")"
   ]
  },
  {
   "cell_type": "markdown",
   "metadata": {},
   "source": [
    "18 . List of Dictionaries\n",
    "--"
   ]
  },
  {
   "cell_type": "code",
   "execution_count": 1,
   "metadata": {},
   "outputs": [
    {
     "name": "stdout",
     "output_type": "stream",
     "text": [
      "The name is Taylor.\n",
      "The section is 400.\n",
      "The price paid is 99.99.\n",
      "The name is Christians.\n",
      "The section is 200.\n",
      "The price paid is 199.99.\n",
      "The name is Jeremy.\n",
      "The section is 100.\n",
      "The price paid is 299.99.\n"
     ]
    }
   ],
   "source": [
    "concert = [\n",
    "    {\"name\":\"Taylor\", \"section\": 400, \"price paid\": 99.99},\n",
    "    {\"name\":\"Christians\", \"section\": 200, \"price paid\": 199.99},\n",
    "    {\"name\":\"Jeremy\", \"section\": 100, \"price paid\": 299.99},\n",
    "]\n",
    "for attendee in concert:\n",
    "    for key,value in attendee.items():\n",
    "        print(f\"The {key} is {value}.\")"
   ]
  },
  {
   "cell_type": "markdown",
   "metadata": {},
   "source": [
    "19 . Keyword Arguments\n",
    "--"
   ]
  },
  {
   "cell_type": "code",
   "execution_count": 3,
   "metadata": {},
   "outputs": [
    {
     "name": "stdout",
     "output_type": "stream",
     "text": [
      "5\n"
     ]
    }
   ],
   "source": [
    "def length(word):\n",
    "    return len(word)\n",
    "print(length(\"hello\"))"
   ]
  },
  {
   "cell_type": "code",
   "execution_count": 4,
   "metadata": {},
   "outputs": [
    {
     "name": "stdout",
     "output_type": "stream",
     "text": [
      "5\n"
     ]
    }
   ],
   "source": [
    "print(length(word=\"hello\"))"
   ]
  },
  {
   "cell_type": "markdown",
   "metadata": {},
   "source": [
    "### Errors"
   ]
  },
  {
   "cell_type": "code",
   "execution_count": 5,
   "metadata": {},
   "outputs": [
    {
     "ename": "TypeError",
     "evalue": "length() got an unexpected keyword argument 'something'",
     "output_type": "error",
     "traceback": [
      "\u001b[1;31m---------------------------------------------------------------------------\u001b[0m",
      "\u001b[1;31mTypeError\u001b[0m                                 Traceback (most recent call last)",
      "\u001b[1;32m<ipython-input-5-56623d8b4da3>\u001b[0m in \u001b[0;36m<module>\u001b[1;34m\u001b[0m\n\u001b[1;32m----> 1\u001b[1;33m \u001b[0mprint\u001b[0m\u001b[1;33m(\u001b[0m\u001b[0mlength\u001b[0m\u001b[1;33m(\u001b[0m\u001b[0msomething\u001b[0m\u001b[1;33m=\u001b[0m\u001b[1;34m\"hello\"\u001b[0m\u001b[1;33m)\u001b[0m\u001b[1;33m)\u001b[0m\u001b[1;33m\u001b[0m\u001b[1;33m\u001b[0m\u001b[0m\n\u001b[0m",
      "\u001b[1;31mTypeError\u001b[0m: length() got an unexpected keyword argument 'something'"
     ]
    }
   ],
   "source": [
    "print(length(something=\"hello\"))"
   ]
  },
  {
   "cell_type": "code",
   "execution_count": 6,
   "metadata": {},
   "outputs": [
    {
     "ename": "TypeError",
     "evalue": "length() got an unexpected keyword argument 'something'",
     "output_type": "error",
     "traceback": [
      "\u001b[1;31m---------------------------------------------------------------------------\u001b[0m",
      "\u001b[1;31mTypeError\u001b[0m                                 Traceback (most recent call last)",
      "\u001b[1;32m<ipython-input-6-32003a8cd013>\u001b[0m in \u001b[0;36m<module>\u001b[1;34m\u001b[0m\n\u001b[1;32m----> 1\u001b[1;33m \u001b[0mprint\u001b[0m\u001b[1;33m(\u001b[0m\u001b[0mlength\u001b[0m\u001b[1;33m(\u001b[0m\u001b[0mword\u001b[0m \u001b[1;33m=\u001b[0m \u001b[1;34m\"Hello\"\u001b[0m\u001b[1;33m,\u001b[0m \u001b[0msomething\u001b[0m\u001b[1;33m=\u001b[0m\u001b[1;34m\"Goodbye\"\u001b[0m\u001b[1;33m)\u001b[0m\u001b[1;33m)\u001b[0m\u001b[1;33m\u001b[0m\u001b[1;33m\u001b[0m\u001b[0m\n\u001b[0m",
      "\u001b[1;31mTypeError\u001b[0m: length() got an unexpected keyword argument 'something'"
     ]
    }
   ],
   "source": [
    "print(length(word = \"Hello\", something=\"Goodbye\"))"
   ]
  },
  {
   "cell_type": "code",
   "execution_count": 7,
   "metadata": {},
   "outputs": [
    {
     "name": "stdout",
     "output_type": "stream",
     "text": [
      "{'a': 2, 'b': 3, 'c': 4, 'd': 5}\n",
      "<class 'dict'>\n",
      "The key is a and the value is 2\n",
      "The key is b and the value is 3\n",
      "The key is c and the value is 4\n",
      "The key is d and the value is 5\n"
     ]
    }
   ],
   "source": [
    "def collect_keyword_arguments(**kwargs):\n",
    "    print(kwargs)\n",
    "    print(type(kwargs))\n",
    "    for key,value in kwargs.items():\n",
    "        print(f\"The key is {key} and the value is {value}\")\n",
    "        \n",
    "collect_keyword_arguments(a=2,b=3,c=4,d=5)\n"
   ]
  },
  {
   "cell_type": "code",
   "execution_count": 8,
   "metadata": {},
   "outputs": [
    {
     "name": "stdout",
     "output_type": "stream",
     "text": [
      "The total of your regular arguments a and b is 3\n",
      "The total of your args tuple is 18\n",
      "The total of your kwargs dictionary is 27\n"
     ]
    }
   ],
   "source": [
    "def args_and_kwargs(a,b,*args, **kwargs):\n",
    "    print(f\"The total of your regular arguments a and b is {a+b}\")\n",
    "    print(f\"The total of your args tuple is {sum(args)}\")\n",
    "    \n",
    "    dict_total = 0\n",
    "    for value in kwargs.values():\n",
    "        dict_total += value\n",
    "    print(f\"The total of your kwargs dictionary is {dict_total}\")\n",
    "\n",
    "args_and_kwargs(1,2,3,4,5,6,x=8,y=9,z=10)"
   ]
  },
  {
   "cell_type": "markdown",
   "metadata": {},
   "source": [
    "20 . Unpacking Argument Dictionary\n",
    "--"
   ]
  },
  {
   "cell_type": "code",
   "execution_count": 4,
   "metadata": {},
   "outputs": [
    {
     "name": "stdout",
     "output_type": "stream",
     "text": [
      "1.8034\n",
      "1.8034\n"
     ]
    }
   ],
   "source": [
    "def height_to_meters(feet, inches):\n",
    "    total_inches = (feet * 12) + inches\n",
    "    return total_inches * 0.0254\n",
    "    \n",
    "print(height_to_meters(5,11))\n",
    "stats = {\n",
    "    \"feet\": 5,\n",
    "    \"inches\": 11,\n",
    "}\n",
    "\n",
    "print(height_to_meters(**stats))"
   ]
  },
  {
   "cell_type": "markdown",
   "metadata": {},
   "source": [
    "21 . Dictionary Comprehension I\n",
    "--"
   ]
  },
  {
   "cell_type": "code",
   "execution_count": 7,
   "metadata": {},
   "outputs": [
    {
     "name": "stdout",
     "output_type": "stream",
     "text": [
      "{'python': 6, 'javascript': 10}\n",
      "{'s': 3, 'u': 2, 'p': 2, 'r': 2, 'l': 3, 't': 1, 'x': 1, 'o': 2}\n"
     ]
    }
   ],
   "source": [
    "languages=[\"python\",\"javascript\",\"ruby\"]\n",
    "lengths = {language: len(language) for language in languages if \"t\" in language}\n",
    "print(lengths)\n",
    "\n",
    "word = \"supercalifragilisticexpialidocious\"\n",
    "\n",
    "letter_counts = { letter: word.count(letter) for letter in word if letter > \"j\"}\n",
    "print(letter_counts)"
   ]
  },
  {
   "cell_type": "markdown",
   "metadata": {},
   "source": [
    "22 . Dictionary Comprehension II\n",
    "--"
   ]
  },
  {
   "cell_type": "code",
   "execution_count": 1,
   "metadata": {},
   "outputs": [
    {
     "name": "stdout",
     "output_type": "stream",
     "text": [
      "{'albany': 'New york', 'austin': 'Texas'}\n"
     ]
    }
   ],
   "source": [
    "capitals = {\n",
    "    \"New york\": \"albany\",\n",
    "    \"California\": \"sacramento\",\n",
    "    \"Texas\": \"austin\"\n",
    "    \n",
    "}\n",
    "inverted={capital:state for state,capital in capitals.items() if len(state)!=len(capital)}\n",
    "print(inverted)"
   ]
  },
  {
   "cell_type": "markdown",
   "metadata": {},
   "source": [
    "SET\n",
    "--\n",
    "\n",
    "- A mutable, unordered data structure that prohibits duplicate values."
   ]
  },
  {
   "cell_type": "markdown",
   "metadata": {},
   "source": [
    "23 . Intro to set\n",
    "--"
   ]
  },
  {
   "cell_type": "code",
   "execution_count": 5,
   "metadata": {},
   "outputs": [
    {
     "name": "stdout",
     "output_type": "stream",
     "text": [
      "{'IBM', 'Msft', 'FB'}\n",
      "{1, 2, 3, 4, 5}\n",
      "{(1, 2, 3), (4, 5, 6)}\n",
      "3\n",
      "5\n",
      "2\n",
      "True\n",
      "True\n",
      "False\n",
      "1\n",
      "2\n",
      "3\n",
      "4\n",
      "5\n"
     ]
    }
   ],
   "source": [
    "stocks = {\"Msft\", \"FB\", \"IBM\", \"FB\"}\n",
    "print(stocks)\n",
    "prices = {1,2,3,4,5,3,2,}\n",
    "print(prices)\n",
    "lottery_numbers = {(1,2,3),(4,5,6),(1,2,3)}\n",
    "print(lottery_numbers)\n",
    "print(len(stocks))\n",
    "print(len(prices))\n",
    "print(len(lottery_numbers))\n",
    "print(\"Msft\" in stocks)\n",
    "print(\"IBM\" in stocks)\n",
    "print(\"GOOG\" in stocks)\n",
    "\n",
    "for number in prices:\n",
    "    print(number)"
   ]
  },
  {
   "cell_type": "code",
   "execution_count": 6,
   "metadata": {},
   "outputs": [
    {
     "name": "stdout",
     "output_type": "stream",
     "text": [
      "1\n",
      "2\n",
      "3\n",
      "4\n",
      "5\n",
      "6\n"
     ]
    }
   ],
   "source": [
    "for numbers in lottery_numbers:\n",
    "    for number in numbers:\n",
    "        print(number)"
   ]
  },
  {
   "cell_type": "code",
   "execution_count": 7,
   "metadata": {},
   "outputs": [
    {
     "name": "stdout",
     "output_type": "stream",
     "text": [
      "{16, 25, 9}\n",
      "3\n"
     ]
    }
   ],
   "source": [
    "squares = { number ** 2 for number in[-5, -4, -3, 3,4,5]}\n",
    "print(squares)\n",
    "print(len(squares))"
   ]
  },
  {
   "cell_type": "markdown",
   "metadata": {},
   "source": [
    "24 . The set function\n",
    "--"
   ]
  },
  {
   "cell_type": "code",
   "execution_count": 8,
   "metadata": {},
   "outputs": [
    {
     "name": "stdout",
     "output_type": "stream",
     "text": [
      "{1, 2, 3}\n",
      "{1, 2, 3}\n"
     ]
    }
   ],
   "source": [
    "print(set([1,2,3]))\n",
    "print(set([1,2,3,3,2,1]))"
   ]
  },
  {
   "cell_type": "code",
   "execution_count": 9,
   "metadata": {},
   "outputs": [
    {
     "name": "stdout",
     "output_type": "stream",
     "text": [
      "{'b', 'c', 'a'}\n"
     ]
    }
   ],
   "source": [
    "print(set(\"abc\"))"
   ]
  },
  {
   "cell_type": "code",
   "execution_count": 10,
   "metadata": {},
   "outputs": [
    {
     "name": "stdout",
     "output_type": "stream",
     "text": [
      "{'b', 'c', 'a'}\n"
     ]
    }
   ],
   "source": [
    "print(set(\"aabbcc\"))"
   ]
  },
  {
   "cell_type": "code",
   "execution_count": 11,
   "metadata": {},
   "outputs": [
    {
     "name": "stdout",
     "output_type": "stream",
     "text": [
      "{'key'}\n"
     ]
    }
   ],
   "source": [
    "print(set({\"key\":\"value\" }))"
   ]
  },
  {
   "cell_type": "code",
   "execution_count": 12,
   "metadata": {},
   "outputs": [
    {
     "name": "stdout",
     "output_type": "stream",
     "text": [
      "['pythogoras', 'plato', 'Aristotle', 'socrates']\n"
     ]
    }
   ],
   "source": [
    "philosophers = [\"plato\", \"socrates\",\"Aristotle\",\"pythogoras\",\"socrates\",\"plato\"]\n",
    "philosophers_set=set(philosophers)\n",
    "philosophers = list(philosophers_set)\n",
    "print(philosophers)"
   ]
  },
  {
   "cell_type": "markdown",
   "metadata": {},
   "source": [
    "25 . The add and update Methods\n",
    "--"
   ]
  },
  {
   "cell_type": "code",
   "execution_count": 24,
   "metadata": {},
   "outputs": [
    {
     "name": "stdout",
     "output_type": "stream",
     "text": [
      "{'Ariel', 'Mickey Mouse', 'Elsa', 'minnie mouse'}\n",
      "{'Ariel', 'Mickey Mouse', 'Elsa', 'minnie mouse'}\n",
      "{'Elsa', 'Ariel', 'minnie mouse', 'Mickey Mouse', 'donald duck', 'goofy'}\n"
     ]
    }
   ],
   "source": [
    "disney_character = {\n",
    "    \"Mickey Mouse\",\n",
    "    \"minnie mouse\",\n",
    "    \"Elsa\"\n",
    "}\n",
    "disney_character.add(\"Ariel\")\n",
    "print(disney_character)\n",
    "disney_character.add(\"Elsa\")\n",
    "print(disney_character)\n",
    "disney_character.update([\"donald duck\",\"goofy\"])\n",
    "print(disney_character)\n"
   ]
  },
  {
   "cell_type": "code",
   "execution_count": 25,
   "metadata": {},
   "outputs": [
    {
     "ename": "TypeError",
     "evalue": "unhashable type: 'list'",
     "output_type": "error",
     "traceback": [
      "\u001b[1;31m---------------------------------------------------------------------------\u001b[0m",
      "\u001b[1;31mTypeError\u001b[0m                                 Traceback (most recent call last)",
      "\u001b[1;32m<ipython-input-25-3e0d1692c545>\u001b[0m in \u001b[0;36m<module>\u001b[1;34m\u001b[0m\n\u001b[0;32m      1\u001b[0m \u001b[0mpages\u001b[0m \u001b[1;33m=\u001b[0m \u001b[1;33m{\u001b[0m \u001b[1;36m10\u001b[0m\u001b[1;33m,\u001b[0m \u001b[1;36m20\u001b[0m\u001b[1;33m,\u001b[0m \u001b[1;36m30\u001b[0m \u001b[1;33m}\u001b[0m\u001b[1;33m\u001b[0m\u001b[1;33m\u001b[0m\u001b[0m\n\u001b[1;32m----> 2\u001b[1;33m \u001b[0mpages\u001b[0m\u001b[1;33m.\u001b[0m\u001b[0madd\u001b[0m\u001b[1;33m(\u001b[0m\u001b[1;33m[\u001b[0m\u001b[1;36m30\u001b[0m\u001b[1;33m,\u001b[0m \u001b[1;36m40\u001b[0m\u001b[1;33m,\u001b[0m \u001b[1;36m50\u001b[0m\u001b[1;33m]\u001b[0m\u001b[1;33m)\u001b[0m\u001b[1;33m\u001b[0m\u001b[1;33m\u001b[0m\u001b[0m\n\u001b[0m",
      "\u001b[1;31mTypeError\u001b[0m: unhashable type: 'list'"
     ]
    }
   ],
   "source": [
    "pages = { 10, 20, 30 }\n",
    "pages.add([30, 40, 50])"
   ]
  },
  {
   "cell_type": "markdown",
   "metadata": {},
   "source": [
    "26 . The remove and discard Methods\n",
    "--"
   ]
  },
  {
   "cell_type": "code",
   "execution_count": 22,
   "metadata": {},
   "outputs": [
    {
     "name": "stdout",
     "output_type": "stream",
     "text": [
      "{'Reyes', 'Scully', 'Mulder'}\n",
      "{'Reyes', 'Scully', 'Mulder'}\n"
     ]
    }
   ],
   "source": [
    "agents = {\"Mulder\", \"Scully\", \"Doggett\", \"Reyes\"}\n",
    "agents.remove(\"Doggett\")\n",
    "print(agents)\n",
    "#agents.remove(\"skinner\")  --- key error as element not present in the list\n",
    "\n",
    "agents.discard(\"Doggett\")\n",
    "print(agents)\n",
    "agents.discard(\"skinner\")"
   ]
  },
  {
   "cell_type": "code",
   "execution_count": 23,
   "metadata": {},
   "outputs": [
    {
     "name": "stdout",
     "output_type": "stream",
     "text": [
      "None\n"
     ]
    }
   ],
   "source": [
    "pages = { 10, 20, 30 }\n",
    "element = pages.remove(30)\n",
    "print(element)"
   ]
  },
  {
   "cell_type": "markdown",
   "metadata": {},
   "source": [
    "27 . The intersection Method to Identify Common Elements between Sets\n",
    "--"
   ]
  },
  {
   "cell_type": "code",
   "execution_count": 32,
   "metadata": {},
   "outputs": [
    {
     "name": "stdout",
     "output_type": "stream",
     "text": [
      "{'snickers'}\n",
      "{'snickers'}\n",
      "{3.0, 4.0, 5.0}\n",
      "{3.0, 4.0, 5.0}\n",
      "{3.0, 4.0, 5.0}\n"
     ]
    }
   ],
   "source": [
    "candy = {\"Milky way\",\"snickers\",\"100 Grand\"}\n",
    "sweet_things = {\"Sour\",\"Reeses Pieces\",\"snickers\"}\n",
    "print(candy.intersection(sweet_things))\n",
    "\n",
    "print(candy & sweet_things)\n",
    "values = {3.0,4.0,5.0}\n",
    "more_values={3,4,5,6}\n",
    "print(values.intersection(more_values))\n",
    "print(more_values.intersection(values))\n",
    "print(values & more_values)"
   ]
  },
  {
   "cell_type": "markdown",
   "metadata": {},
   "source": [
    "28 . The union Method to Combine Elements from Two Sets\n",
    "--"
   ]
  },
  {
   "cell_type": "code",
   "execution_count": 34,
   "metadata": {},
   "outputs": [
    {
     "name": "stdout",
     "output_type": "stream",
     "text": [
      "{'100 Grand', 'snickers', 'Reeses Pieces', 'Sour', 'Milky way'}\n",
      "{'100 Grand', 'snickers', 'Reeses Pieces', 'Sour', 'Milky way'}\n"
     ]
    }
   ],
   "source": [
    "candy = {\"Milky way\",\"snickers\",\"100 Grand\"}\n",
    "sweet_things = {\"Sour\",\"Reeses Pieces\",\"snickers\"}\n",
    "print(candy.union(sweet_things))\n",
    "print(candy | sweet_things)"
   ]
  },
  {
   "cell_type": "markdown",
   "metadata": {},
   "source": [
    "29 . The difference method to identify unique elements in one set\n",
    "--"
   ]
  },
  {
   "cell_type": "code",
   "execution_count": 37,
   "metadata": {},
   "outputs": [
    {
     "name": "stdout",
     "output_type": "stream",
     "text": [
      "{'100 Grand', 'Milky way'}\n",
      "{'100 Grand', 'Milky way'}\n",
      "{'Reeses Pieces', 'Sour'}\n"
     ]
    }
   ],
   "source": [
    "candy = {\"Milky way\",\"snickers\",\"100 Grand\"}\n",
    "sweet_things = {\"Sour\",\"Reeses Pieces\",\"snickers\"}\n",
    "print(candy.difference(sweet_things))\n",
    "print(candy - sweet_things)\n",
    "print(sweet_things - candy)"
   ]
  },
  {
   "cell_type": "markdown",
   "metadata": {},
   "source": [
    "30 . The symmetric_difference Method to Identify Elements Not in Common Between Two S\n",
    "--"
   ]
  },
  {
   "cell_type": "code",
   "execution_count": 39,
   "metadata": {},
   "outputs": [
    {
     "name": "stdout",
     "output_type": "stream",
     "text": [
      "{'100 Grand', 'Reeses Pieces', 'Sour', 'Milky way'}\n",
      "{'100 Grand', 'Reeses Pieces', 'Sour', 'Milky way'}\n",
      "{'Milky way', '100 Grand', 'Reeses Pieces', 'Sour'}\n"
     ]
    }
   ],
   "source": [
    "candy = {\"Milky way\",\"snickers\",\"100 Grand\"}\n",
    "sweet_things = {\"Sour\",\"Reeses Pieces\",\"snickers\"}\n",
    "print(candy.symmetric_difference(sweet_things))\n",
    "print(candy ^ sweet_things)\n",
    "print(sweet_things ^ candy)"
   ]
  },
  {
   "cell_type": "markdown",
   "metadata": {},
   "source": [
    "31 . The issubset and issuperset Method\n",
    "--"
   ]
  },
  {
   "cell_type": "code",
   "execution_count": 45,
   "metadata": {},
   "outputs": [
    {
     "name": "stdout",
     "output_type": "stream",
     "text": [
      "True\n",
      "False\n",
      "False\n",
      "True\n",
      "True\n",
      "True\n",
      "True\n",
      "True\n"
     ]
    }
   ],
   "source": [
    "a = {1,2,4}\n",
    "b = {1,2,3,4,5}\n",
    "print(a.issubset(b))\n",
    "print(b.issubset(a))\n",
    "print(a.issuperset(b))\n",
    "print(b.issuperset(a))\n",
    "print(a<b)\n",
    "print(a <= b)\n",
    "print(b>a)\n",
    "print(b>=a)"
   ]
  },
  {
   "cell_type": "markdown",
   "metadata": {},
   "source": [
    "32 . The Frozen Object\n",
    "--"
   ]
  },
  {
   "cell_type": "code",
   "execution_count": 46,
   "metadata": {},
   "outputs": [
    {
     "name": "stdout",
     "output_type": "stream",
     "text": [
      "frozenset({1, 2, 3})\n"
     ]
    }
   ],
   "source": [
    "mr_freeze = frozenset([1,2,3,2])\n",
    "print(mr_freeze)"
   ]
  },
  {
   "cell_type": "code",
   "execution_count": 47,
   "metadata": {},
   "outputs": [
    {
     "ename": "AttributeError",
     "evalue": "'frozenset' object has no attribute 'add'",
     "output_type": "error",
     "traceback": [
      "\u001b[1;31m---------------------------------------------------------------------------\u001b[0m",
      "\u001b[1;31mAttributeError\u001b[0m                            Traceback (most recent call last)",
      "\u001b[1;32m<ipython-input-47-d257237ea7d2>\u001b[0m in \u001b[0;36m<module>\u001b[1;34m\u001b[0m\n\u001b[1;32m----> 1\u001b[1;33m \u001b[0mmr_freeze\u001b[0m\u001b[1;33m.\u001b[0m\u001b[0madd\u001b[0m\u001b[1;33m(\u001b[0m\u001b[1;36m4\u001b[0m\u001b[1;33m)\u001b[0m\u001b[1;33m\u001b[0m\u001b[1;33m\u001b[0m\u001b[0m\n\u001b[0m",
      "\u001b[1;31mAttributeError\u001b[0m: 'frozenset' object has no attribute 'add'"
     ]
    }
   ],
   "source": [
    "mr_freeze.add(4)"
   ]
  },
  {
   "cell_type": "markdown",
   "metadata": {},
   "source": [
    "-  add, update etc are not available in a frozen set."
   ]
  },
  {
   "cell_type": "code",
   "execution_count": 50,
   "metadata": {},
   "outputs": [
    {
     "name": "stdout",
     "output_type": "stream",
     "text": [
      "{frozenset({1, 2, 3}): 'some value'}\n"
     ]
    }
   ],
   "source": [
    "regular_set = {1,2,3}\n",
    "# print({regular_set:\"some value\"}) --- error\n",
    "print({mr_freeze: \"some value\"})"
   ]
  },
  {
   "cell_type": "markdown",
   "metadata": {},
   "source": [
    "The end of this textbook\n",
    "--"
   ]
  }
 ],
 "metadata": {
  "kernelspec": {
   "display_name": "Python 3",
   "language": "python",
   "name": "python3"
  },
  "language_info": {
   "codemirror_mode": {
    "name": "ipython",
    "version": 3
   },
   "file_extension": ".py",
   "mimetype": "text/x-python",
   "name": "python",
   "nbconvert_exporter": "python",
   "pygments_lexer": "ipython3",
   "version": "3.8.5"
  }
 },
 "nbformat": 4,
 "nbformat_minor": 4
}
