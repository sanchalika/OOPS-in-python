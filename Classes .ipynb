{
 "cells": [
  {
   "cell_type": "markdown",
   "metadata": {},
   "source": [
    "# Classes: The Basics\n"
   ]
  },
  {
   "cell_type": "markdown",
   "metadata": {},
   "source": [
    "1 . Intro to OOPS\n",
    "--\n",
    "\n",
    "- A paradigm for code organization and design that views a software program as a collection of objects that interact with each other.\n",
    "- An object is a container of data and behaviour"
   ]
  },
  {
   "cell_type": "markdown",
   "metadata": {},
   "source": [
    " **Attributes and methods** \n",
    " - Attributes define an object's state or internal data. Attributes can be viewed as variables belonging to an object."
   ]
  },
  {
   "cell_type": "markdown",
   "metadata": {},
   "source": [
    "**Methods**\n",
    " \n",
    " - A method can be viewed as a function belonging to an object.\n",
    " - A method is a command or an instruction or a messsage to send to an object.\n",
    " - A method can interact with and modify the object's attributes , thus altering its state."
   ]
  },
  {
   "cell_type": "markdown",
   "metadata": {},
   "source": [
    " **Classes**\n",
    " - A class is a blueprint for defining a new object type in python.\n",
    " - A class definition describes the attributes and methods that each object made from the class will have."
   ]
  },
  {
   "cell_type": "markdown",
   "metadata": {},
   "source": [
    "**Instances**\n",
    "- an instance is an object created from a class. The act of creating an instance is called instantiation.\n",
    "- Objects created from the same class are independennt of each other."
   ]
  },
  {
   "cell_type": "markdown",
   "metadata": {},
   "source": [
    "2 . Class definition and instantiation\n",
    "--"
   ]
  },
  {
   "cell_type": "code",
   "execution_count": 4,
   "metadata": {},
   "outputs": [
    {
     "name": "stdout",
     "output_type": "stream",
     "text": [
      "<__main__.Person object at 0x0000018BB417F9A0>\n",
      "<__main__.Person object at 0x0000018BB417FD00>\n",
      "<__main__.DatabaseConnection object at 0x0000018BB417FE80>\n"
     ]
    }
   ],
   "source": [
    "class Person():\n",
    "    pass\n",
    "\n",
    "class DatabaseConnection():\n",
    "    pass\n",
    "\n",
    "sanch = Person()\n",
    "sally = Person()\n",
    "\n",
    "print(sanch)\n",
    "print(sally)\n",
    "\n",
    "dc=DatabaseConnection()\n",
    "print(dc)\n",
    "    "
   ]
  },
  {
   "cell_type": "markdown",
   "metadata": {},
   "source": [
    "3 . The __ init __ Method\n",
    "--"
   ]
  },
  {
   "cell_type": "code",
   "execution_count": 8,
   "metadata": {},
   "outputs": [
    {
     "name": "stdout",
     "output_type": "stream",
     "text": [
      "a new guiter is being created! this object is <__main__.Guiter object at 0x0000018BB425D100>\n",
      "<__main__.Guiter object at 0x0000018BB425D100>\n",
      "a new guiter is being created! this object is <__main__.Guiter object at 0x0000018BB417F160>\n",
      "<__main__.Guiter object at 0x0000018BB417F160>\n"
     ]
    }
   ],
   "source": [
    "class Guiter():\n",
    "    def __init__(self):\n",
    "        print(f\"a new guiter is being created! this object is {self}\")\n",
    "        \n",
    "acoustic = Guiter()\n",
    "print(acoustic)\n",
    "electric = Guiter()\n",
    "print(electric)"
   ]
  },
  {
   "cell_type": "markdown",
   "metadata": {},
   "source": [
    "4 . Adding atributes to objects\n",
    "--"
   ]
  },
  {
   "cell_type": "code",
   "execution_count": 10,
   "metadata": {},
   "outputs": [
    {
     "name": "stdout",
     "output_type": "stream",
     "text": [
      "a new guiter is being created! this object is <__main__.Guiter object at 0x000002838F915850>\n",
      "a new guiter is being created! this object is <__main__.Guiter object at 0x000002838F915190>\n",
      "Mahogony\n",
      "Sound viking 3000\n"
     ]
    }
   ],
   "source": [
    "class Guiter():\n",
    "    def __init__(self):\n",
    "        print(f\"a new guiter is being created! this object is {self}\")\n",
    "        \n",
    "acoustic = Guiter()\n",
    "electric = Guiter()\n",
    "acoustic.wood = \"Mahogony\"\n",
    "acoustic.strings = 6\n",
    "acoustic.year = 1990\n",
    "\n",
    "electric.nickname=\"Sound viking 3000\"\n",
    "\n",
    "print(acoustic.wood)\n",
    "print(electric.nickname)\n",
    "\n",
    "#print(electric.year)\n",
    "#print(acoustic.nickname)  -- error"
   ]
  },
  {
   "cell_type": "markdown",
   "metadata": {},
   "source": [
    "5 . Setting Object Attributes in the __ init __ Method\n",
    "--"
   ]
  },
  {
   "cell_type": "code",
   "execution_count": 14,
   "metadata": {},
   "outputs": [
    {
     "name": "stdout",
     "output_type": "stream",
     "text": [
      "Alder\n",
      "Mahogany\n",
      "Alder\n",
      "<__main__.Guiter object at 0x000002838F926F10>\n",
      "<__main__.Guiter object at 0x000002838F837220>\n"
     ]
    }
   ],
   "source": [
    "class Guiter():\n",
    "    def __init__(self, wood):\n",
    "        self.wood = wood\n",
    "        \n",
    "acoustic = Guiter(\"Alder\")\n",
    "electric = Guiter(\"Mahogany\")\n",
    "print(acoustic.wood)\n",
    "print(electric.wood)\n",
    "\n",
    "baritone = Guiter(\"Alder\")\n",
    "print(baritone.wood)\n",
    "print(acoustic)\n",
    "print(baritone)\n",
    "\n",
    "a=[1,2,3]\n",
    "b=[1,2,3]"
   ]
  },
  {
   "cell_type": "markdown",
   "metadata": {},
   "source": [
    "6 . Default Values for Attributes\n",
    "--"
   ]
  },
  {
   "cell_type": "code",
   "execution_count": 15,
   "metadata": {},
   "outputs": [
    {
     "name": "stdout",
     "output_type": "stream",
     "text": [
      "george\n",
      "14.99\n"
     ]
    }
   ],
   "source": [
    "class Book():\n",
    "    def __init__(self,title,author,price):\n",
    "        self.title=title\n",
    "        self.author=author\n",
    "        self.price=price\n",
    "animal_farm = Book(\"animal farm\", \"george\", 14.99)\n",
    "gatsby=Book(\"The Great Gatsby\",\"F.Scott\",14.99)\n",
    "print(animal_farm.author)\n",
    "print(gatsby.price)"
   ]
  },
  {
   "cell_type": "code",
   "execution_count": 18,
   "metadata": {},
   "outputs": [
    {
     "name": "stdout",
     "output_type": "stream",
     "text": [
      "15.99\n",
      "14.99\n",
      "Jude\n"
     ]
    }
   ],
   "source": [
    "class Book():\n",
    "    def __init__(self,title,author,price=14.99):\n",
    "        self.title=title\n",
    "        self.author=author\n",
    "        self.price=price\n",
    "animal_farm = Book(\"animal farm\", \"george\", 15.99)\n",
    "gatsby=Book(\"The Great Gatsby\",\"F.Scott\")\n",
    "print(animal_farm.price)\n",
    "print(gatsby.price)\n",
    "atlas=Book(title=\"Anne Frank\", author=\"Anne\")\n",
    "jude=Book(author=\"Thomas\", price=\"24.99\",title=\"Jude\")\n",
    "print(jude.title)"
   ]
  },
  {
   "cell_type": "markdown",
   "metadata": {},
   "source": [
    "# Classes: Attributes and Methods"
   ]
  },
  {
   "cell_type": "markdown",
   "metadata": {},
   "source": [
    "7 . Instances Methods\n",
    "--\n",
    "\n",
    "- A function that belongs to an object"
   ]
  },
  {
   "cell_type": "code",
   "execution_count": 26,
   "metadata": {},
   "outputs": [
    {
     "name": "stdout",
     "output_type": "stream",
     "text": [
      "Raaarr\n",
      "Raaarr\n",
      "I am squirrel. I am a water Pokemon\n",
      "I am charmander. I am a Fire Pokemon\n",
      "100\n",
      "20\n",
      "60\n",
      "110\n"
     ]
    }
   ],
   "source": [
    "class Pokemon():\n",
    "    def __init__(self,name,speciality,health=100):\n",
    "        self.name=name\n",
    "        self.speciality=speciality\n",
    "        self.health=health\n",
    "    def roar(self):\n",
    "        print(\"Raaarr\")\n",
    "    def describe(self):\n",
    "        print(f\"I am {self.name}. I am a {self.speciality} Pokemon\")\n",
    "    def take_damage(self,amount):\n",
    "        self.health-=self.health-amount\n",
    "squirrel=Pokemon(\"squirrel\",\"water\")\n",
    "charmander=Pokemon(name=\"charmander\",speciality=\"Fire\",health=110)\n",
    "squirrel.roar()\n",
    "charmander.roar()\n",
    "squirrel.describe()\n",
    "charmander.describe()\n",
    "print(squirrel.health)\n",
    "squirrel.take_damage(20)\n",
    "print(squirrel.health)\n",
    "\n",
    "squirrel.health=60\n",
    "print(squirrel.health)\n",
    "print(charmander.health)"
   ]
  },
  {
   "cell_type": "markdown",
   "metadata": {},
   "source": [
    "8 . Protected Attributes and Methods (Encapsulation)\n",
    "--"
   ]
  },
  {
   "cell_type": "code",
   "execution_count": 3,
   "metadata": {},
   "outputs": [
    {
     "name": "stdout",
     "output_type": "stream",
     "text": [
      "Apple\n",
      "10.0\n",
      "Reaching out to the server for the next version\n",
      "None\n",
      "11.0\n"
     ]
    }
   ],
   "source": [
    "class SmartPhone():\n",
    "    def __init__(self):\n",
    "        self._company=\"Apple\"\n",
    "        self._firmware=10.0\n",
    "    def get_os_version(self):\n",
    "        return self._firmware\n",
    "    def update_firmware(self):\n",
    "        print(\"Reaching out to the server for the next version\")\n",
    "        self._firmware+=1\n",
    "        \n",
    "iphone=SmartPhone()\n",
    "print(iphone._company)\n",
    "print(iphone._firmware)\n",
    "print(iphone.update_firmware())\n",
    "print(iphone._firmware)"
   ]
  },
  {
   "cell_type": "markdown",
   "metadata": {},
   "source": [
    "9 . Define Properties with property methods\n",
    "--\n",
    "\n",
    "- Getter and setters: Instance methods that get/set attribute values on an object"
   ]
  },
  {
   "cell_type": "code",
   "execution_count": 6,
   "metadata": {},
   "outputs": [
    {
     "name": "stdout",
     "output_type": "stream",
     "text": [
      "5.0\n",
      "6.0\n",
      "6.0\n"
     ]
    }
   ],
   "source": [
    "class Height():\n",
    "    def __init__(self,feet):\n",
    "        self._inches=feet * 12\n",
    "    def _get_feet(self):\n",
    "        return self._inches/12\n",
    "    def _set_feet(self,feet):\n",
    "        if feet >=0:\n",
    "            self._inches=feet*12\n",
    "        \n",
    "    feet=property(_get_feet,_set_feet)\n",
    "    \n",
    "h=Height(5)\n",
    "print(h.feet)\n",
    "\n",
    "h.feet=6\n",
    "print(h.feet)\n",
    "\n",
    "h.feet = -10\n",
    "print(h.feet)"
   ]
  },
  {
   "cell_type": "markdown",
   "metadata": {},
   "source": [
    "10 . Define properties with decorators\n",
    "--"
   ]
  },
  {
   "cell_type": "code",
   "execution_count": 10,
   "metadata": {},
   "outputs": [
    {
     "name": "stdout",
     "output_type": "stream",
     "text": [
      "50000.0\n",
      "1000.0\n",
      "1000.0\n"
     ]
    }
   ],
   "source": [
    "class Currency():\n",
    "    def __init__(self,dollars):\n",
    "        self._cents=dollars*100\n",
    "        \n",
    "    @property\n",
    "    def dollars(self):\n",
    "        return self._cents/100\n",
    "    \n",
    "    @dollars.setter\n",
    "    def dollars(self,dollars):\n",
    "        if dollars>=0:\n",
    "            self._cents=dollars\n",
    "bank_account=Currency(50000)\n",
    "print(bank_account.dollars)\n",
    "bank_account.dollars=100000\n",
    "print(bank_account.dollars)\n",
    "bank_account.dollars=-20000\n",
    "print(bank_account.dollars)"
   ]
  },
  {
   "cell_type": "markdown",
   "metadata": {},
   "source": [
    "11 . The getattr and setattr Functions\n",
    "--"
   ]
  },
  {
   "cell_type": "code",
   "execution_count": 11,
   "metadata": {},
   "outputs": [
    {
     "name": "stdout",
     "output_type": "stream",
     "text": [
      " Extra large\n",
      "['chicken', 'onions', 'BBQ chicken']\n",
      "19.99\n",
      "BBQ chicken\n",
      "unknown\n",
      "unknown\n"
     ]
    }
   ],
   "source": [
    "stats = {\n",
    "    \"name\": \"BBQ chicken\",\n",
    "    \"size\":\" Extra large\",\n",
    "    \"price\": 19.99,\n",
    "    \"ingredients\": [\"chicken\",\"onions\",\"BBQ chicken\"]\n",
    "}\n",
    "class pizza():\n",
    "    def __init__(self,stats):\n",
    "        for key,value in stats.items():\n",
    "            setattr(self,key,value)\n",
    "            \n",
    "bbq=pizza(stats)\n",
    "print(bbq.size)\n",
    "print(bbq.ingredients)\n",
    "for attr in [\"price\",\"name\",\"diameter\",\"discounted\"]:\n",
    "    print(getattr(bbq,attr,\"unknown\"))\n"
   ]
  },
  {
   "cell_type": "markdown",
   "metadata": {},
   "source": [
    "12 . The hasattr and deleteattr functions\n",
    "--"
   ]
  },
  {
   "cell_type": "code",
   "execution_count": 12,
   "metadata": {},
   "outputs": [
    {
     "name": "stdout",
     "output_type": "stream",
     "text": [
      " Extra large\n"
     ]
    },
    {
     "ename": "AttributeError",
     "evalue": "'pizza' object has no attribute 'size'",
     "output_type": "error",
     "traceback": [
      "\u001b[1;31m---------------------------------------------------------------------------\u001b[0m",
      "\u001b[1;31mAttributeError\u001b[0m                            Traceback (most recent call last)",
      "\u001b[1;32m<ipython-input-12-d226c562b511>\u001b[0m in \u001b[0;36m<module>\u001b[1;34m\u001b[0m\n\u001b[0;32m     17\u001b[0m         \u001b[0mdelattr\u001b[0m\u001b[1;33m(\u001b[0m\u001b[0mbbq\u001b[0m\u001b[1;33m,\u001b[0m\u001b[0mstat\u001b[0m\u001b[1;33m)\u001b[0m\u001b[1;33m\u001b[0m\u001b[1;33m\u001b[0m\u001b[0m\n\u001b[0;32m     18\u001b[0m \u001b[1;33m\u001b[0m\u001b[0m\n\u001b[1;32m---> 19\u001b[1;33m \u001b[0mprint\u001b[0m\u001b[1;33m(\u001b[0m\u001b[0mbbq\u001b[0m\u001b[1;33m.\u001b[0m\u001b[0msize\u001b[0m\u001b[1;33m)\u001b[0m\u001b[1;33m\u001b[0m\u001b[1;33m\u001b[0m\u001b[0m\n\u001b[0m",
      "\u001b[1;31mAttributeError\u001b[0m: 'pizza' object has no attribute 'size'"
     ]
    }
   ],
   "source": [
    "stats = {\n",
    "    \"name\": \"BBQ chicken\",\n",
    "    \"size\":\" Extra large\",\n",
    "    \"price\": 19.99,\n",
    "    \"ingredients\": [\"chicken\",\"onions\",\"BBQ chicken\"]\n",
    "}\n",
    "class pizza():\n",
    "    def __init__(self,stats):\n",
    "        for key,value in stats.items():\n",
    "            setattr(self,key,value)\n",
    "            \n",
    "bbq=pizza(stats)\n",
    "stats_to_delete=[\"size\",\"diameter\",\"spiciness\",\"ingredients\"]\n",
    "print(bbq.size)\n",
    "for stat in stats_to_delete:\n",
    "    if hasattr(bbq, stat):\n",
    "        delattr(bbq,stat)\n",
    "        \n",
    "print(bbq.size)"
   ]
  },
  {
   "cell_type": "markdown",
   "metadata": {},
   "source": [
    "13 . Class Methods\n",
    "--"
   ]
  },
  {
   "cell_type": "code",
   "execution_count": 18,
   "metadata": {},
   "outputs": [
    {
     "name": "stdout",
     "output_type": "stream",
     "text": [
      "8\n",
      "2\n",
      "0\n",
      "10\n"
     ]
    }
   ],
   "source": [
    "class SushiPlatter():\n",
    "    def __init__(self,salmon,tuna,shrimp,squid):\n",
    "        self.salmon=salmon\n",
    "        self.tuna=tuna\n",
    "        self.shrimp=shrimp\n",
    "        self.squid=squid\n",
    "    \n",
    "    @classmethod\n",
    "    def lunch_special_A(cls):\n",
    "        return cls(salmon=2,tuna=2,shrimp=5,squid=0)\n",
    "    @classmethod\n",
    "    def tuna_lover(cls):\n",
    "        return cls(salmon=0,tuna=10,shrimp=0,squid=1)\n",
    "        \n",
    "boris = SushiPlatter(salmon=8,tuna=4,shrimp=5,squid=10)\n",
    "print(boris.salmon)\n",
    "lunch_eater=SushiPlatter.lunch_special_A()\n",
    "print(lunch_eater.salmon)\n",
    "print(lunch_eater.squid)\n",
    "\n",
    "tuna_fan=SushiPlatter.tuna_lover()\n",
    "print(tuna_fan.tuna)"
   ]
  },
  {
   "cell_type": "markdown",
   "metadata": {},
   "source": [
    "14 . Class Attributes\n",
    "--"
   ]
  },
  {
   "cell_type": "code",
   "execution_count": 5,
   "metadata": {},
   "outputs": [
    {
     "name": "stdout",
     "output_type": "stream",
     "text": [
      "0\n",
      "1\n",
      "new number of counter objects created: 3\n",
      "3\n",
      "3\n",
      "3\n",
      "3\n"
     ]
    }
   ],
   "source": [
    "class counter():\n",
    "    count = 0\n",
    "    \n",
    "    def __init__(self):\n",
    "        counter.count += 1\n",
    "        \n",
    "    @classmethod\n",
    "    def create_two(cls):\n",
    "        two_counters=[cls(),cls()]\n",
    "        print(f\"new number of counter objects created: {cls.count}\")\n",
    "        return two_counters\n",
    "print(counter.count)\n",
    "c1 = counter()\n",
    "print(counter.count)\n",
    "c2,c3=counter.create_two()\n",
    "print(counter.count)\n",
    "\n",
    "print(c1.count)\n",
    "print(c2.count)\n",
    "print(c3.count)"
   ]
  },
  {
   "cell_type": "markdown",
   "metadata": {},
   "source": [
    "15 . Attribute Lookup Order\n",
    "--"
   ]
  },
  {
   "cell_type": "code",
   "execution_count": 7,
   "metadata": {},
   "outputs": [
    {
     "name": "stdout",
     "output_type": "stream",
     "text": [
      "class attributes\n",
      "class attributes\n",
      "instance attribute\n",
      "class attributes\n",
      "class attributes\n",
      "class attributes\n"
     ]
    }
   ],
   "source": [
    "class Example():\n",
    "    data = \"class attributes\"\n",
    "    \n",
    "e1=Example()\n",
    "e2=Example()\n",
    "print(e1.data)\n",
    "print(e2.data)\n",
    "e1.data=\"instance attribute\"\n",
    "print(e1.data)\n",
    "print(e2.data)\n",
    "\n",
    "del e1.data\n",
    "print(e1.data)\n",
    "print(e2.data)"
   ]
  },
  {
   "cell_type": "markdown",
   "metadata": {},
   "source": [
    "16 . Static Methods\n",
    "--"
   ]
  },
  {
   "cell_type": "code",
   "execution_count": 15,
   "metadata": {},
   "outputs": [
    {
     "name": "stdout",
     "output_type": "stream",
     "text": [
      "[37.78, 32.22, 26.67, 21.11, 15.56]\n",
      "37.78\n"
     ]
    }
   ],
   "source": [
    "class weatherforecast():\n",
    "    def __init__(self,temperatures):\n",
    "        self.temperatures=temperatures\n",
    "    @staticmethod    \n",
    "    def convert_from_fahrenheit_to_celcius(fahr):\n",
    "        calculation=(5/9)*(fahr-32)\n",
    "        return round(calculation,2)\n",
    "        \n",
    "    def in_celcius(self):\n",
    "        return [self.convert_from_fahrenheit_to_celcius(temp) for temp in self.temperatures]\n",
    "    \n",
    "wf = weatherforecast([100,90,80,70,60])\n",
    "print(wf.in_celcius())\n",
    "print(weatherforecast.convert_from_fahrenheit_to_celcius(100))"
   ]
  },
  {
   "cell_type": "markdown",
   "metadata": {},
   "source": [
    "# Classes: Magic Methods"
   ]
  },
  {
   "cell_type": "markdown",
   "metadata": {},
   "source": [
    "17 . Intro to Magic Methods\n",
    "--"
   ]
  },
  {
   "cell_type": "code",
   "execution_count": 21,
   "metadata": {},
   "outputs": [
    {
     "name": "stdout",
     "output_type": "stream",
     "text": [
      "7.7\n",
      "7.7\n",
      "3\n",
      "3\n",
      "True\n",
      "True\n",
      "c\n",
      "c\n"
     ]
    }
   ],
   "source": [
    "print(3.3+4.4)\n",
    "print(3.3.__add__(4.4))\n",
    "print(len([1,2,3]))\n",
    "print([1,2,3].__len__())\n",
    "print(\"h\" in \"hello\")\n",
    "print(\"hello\".__contains__(\"h\"))\n",
    "\n",
    "print([\"a\",\"b\",\"c\"][2])\n",
    "print([\"a\",\"b\",\"c\"].__getitem__(2))\n"
   ]
  },
  {
   "cell_type": "markdown",
   "metadata": {},
   "source": [
    "18 . String Representation with the __ str __ and __ repr __ Method\n",
    "--"
   ]
  },
  {
   "cell_type": "code",
   "execution_count": 26,
   "metadata": {},
   "outputs": [
    {
     "name": "stdout",
     "output_type": "stream",
     "text": [
      "Ace of spades\n",
      "Ace of spades\n",
      "card(\"Ace\",\"spades\")\n",
      "Ace of spades\n",
      "card(\"Ace\",\"spades\")\n"
     ]
    }
   ],
   "source": [
    "class card():\n",
    "    def __init__(self,rank,suit):\n",
    "        self.rank=rank\n",
    "        self.suit=suit\n",
    "        \n",
    "    def __str__(self):\n",
    "        return f\"{self.rank} of {self.suit}\"\n",
    "    \n",
    "    def __repr__(self):\n",
    "        return f'card(\"{self.rank}\",\"{self.suit}\")'\n",
    "        \n",
    "c =card(\"Ace\",\"spades\")\n",
    "print(c)\n",
    "print(str(c))\n",
    "print(repr(c))\n",
    "\n",
    "print(c.__str__())\n",
    "print(c.__repr__())"
   ]
  },
  {
   "cell_type": "markdown",
   "metadata": {},
   "source": [
    "19 . Equality with the __ eq __ Method\n",
    "--"
   ]
  },
  {
   "cell_type": "code",
   "execution_count": 28,
   "metadata": {},
   "outputs": [
    {
     "name": "stdout",
     "output_type": "stream",
     "text": [
      "270\n",
      "270\n",
      "True\n",
      "True\n",
      "False\n",
      "False\n"
     ]
    }
   ],
   "source": [
    "class student():\n",
    "    def __init__(self,math,history,writing):\n",
    "        self.math=math\n",
    "        self.history=history\n",
    "        self.writing=writing\n",
    "        \n",
    "    @property\n",
    "    def grades(self):\n",
    "        return self.math + self.history + self.writing\n",
    "    def __eq__(self,other_student):\n",
    "        return self.grades == other_student.grades\n",
    "    \n",
    "bob = student(math=90,history=90,writing=90)\n",
    "moe = student(math=100,history=90,writing=80)\n",
    "joe = student(math=40,history=45,writing=50)\n",
    "print(bob.grades)\n",
    "print(moe.grades)\n",
    "print(bob == moe)\n",
    "print(moe == bob)\n",
    "print(bob == joe)\n",
    "print(moe == joe)"
   ]
  },
  {
   "cell_type": "markdown",
   "metadata": {},
   "source": [
    "20 . Magic Methods for Comparison Operations\n",
    "--"
   ]
  },
  {
   "cell_type": "code",
   "execution_count": 29,
   "metadata": {},
   "outputs": [
    {
     "name": "stdout",
     "output_type": "stream",
     "text": [
      "True\n",
      "True\n",
      "540\n",
      "135\n"
     ]
    }
   ],
   "source": [
    "class student():\n",
    "    def __init__(self,math,history,writing):\n",
    "        self.math=math\n",
    "        self.history=history\n",
    "        self.writing=writing\n",
    "        \n",
    "    @property\n",
    "    def grades(self):\n",
    "        return self.math + self.history + self.writing\n",
    "    def __eq__(self,other_student):\n",
    "        return self.grades == other_student.grades\n",
    "    def __gt__(self,other_student):\n",
    "        return self.grades > other_student.grades\n",
    "    def __le__(self,other_student):\n",
    "        return self.grades <= other_student.grades\n",
    "    def __add__(self,other_student):\n",
    "        return self.grades+other_student.grades\n",
    "    def __sub__(self,other_student):\n",
    "        return self.grades - other_student.grades\n",
    "    \n",
    "bob = student(math=90,history=90,writing=90)\n",
    "moe = student(math=100,history=90,writing=80)\n",
    "joe = student(math=40,history=45,writing=50)\n",
    "\n",
    "print(moe > joe)\n",
    "print(joe<=bob)\n",
    "print(bob + moe)\n",
    "print(moe-joe)"
   ]
  },
  {
   "cell_type": "markdown",
   "metadata": {},
   "source": [
    "21 . Docstrings\n",
    "--\n",
    "\n",
    "- A regular python string that creates technical documentation for a piece of your program"
   ]
  },
  {
   "cell_type": "code",
   "execution_count": null,
   "metadata": {},
   "outputs": [],
   "source": [
    "\"\"\" \n",
    "a module related to the joy of sushi\n",
    "No fishy code found here!\n",
    "\"\"\"\n",
    "\n",
    "def fish():\n",
    "    \"\"\"\n",
    "    Determines if fish is a good meal choice\n",
    "    \"\"\"\n",
    "    return True\n",
    "\n",
    "class salmon():\n",
    "    \"\"\"\n",
    "    Blueprint for a salmon object\n",
    "    \"\"\"\n",
    "    def __init__(self):\n",
    "        self.tastiness=10\n",
    "        \n",
    "    def bake(self):\n",
    "        \"\"\"\n",
    "    bake in the oven\n",
    "    \"\"\"\n",
    "        self.tastiness += 1\n",
    "#rest of the code in vs code       "
   ]
  },
  {
   "cell_type": "markdown",
   "metadata": {},
   "source": [
    "22 . Truthiness with the __bool__ Method\n",
    "--"
   ]
  },
  {
   "cell_type": "code",
   "execution_count": 30,
   "metadata": {},
   "outputs": [
    {
     "name": "stdout",
     "output_type": "stream",
     "text": [
      "this will print because I have more positivity than negetivity\n"
     ]
    }
   ],
   "source": [
    "class emotion():\n",
    "    def __init__(self,positivity,negetivity):\n",
    "        self.positivity=positivity\n",
    "        self.negetivity=negetivity\n",
    "        \n",
    "    def __bool__(self):\n",
    "        return self.positivity > self.negetivity\n",
    "    \n",
    "my_emotional_state = emotion(positivity=50, negetivity=75)\n",
    "\n",
    "if my_emotional_state:\n",
    "    print(\"This will not print because negetivity more han positivity\")\n",
    "my_emotional_state.positivity = 100\n",
    "if my_emotional_state:\n",
    "    print(\"this will print because I have more positivity than negetivity\")\n",
    "    \n",
    "    "
   ]
  },
  {
   "cell_type": "markdown",
   "metadata": {},
   "source": [
    "23 . The namedtuple Object\n",
    "--"
   ]
  },
  {
   "cell_type": "code",
   "execution_count": 35,
   "metadata": {},
   "outputs": [
    {
     "name": "stdout",
     "output_type": "stream",
     "text": [
      "animal farm\n",
      "F.scott\n",
      "animal farm\n",
      "F.scott\n"
     ]
    }
   ],
   "source": [
    "import collections\n",
    "Book = collections.namedtuple(\"Book\", [\"title\",\"author\"])\n",
    "\n",
    "                                       \n",
    "animal_farm = Book(\"animal farm\",\"george orwell\")\n",
    "gatsby = Book(title=\"the great gatsby\", author =\"F.scott\")\n",
    "                                       \n",
    "print(animal_farm[0])\n",
    "print(gatsby[1])\n",
    "print(animal_farm.title)\n",
    "print(gatsby.author)\n"
   ]
  },
  {
   "cell_type": "markdown",
   "metadata": {},
   "source": [
    "24 . Length with the __len__ Method\n",
    "--"
   ]
  },
  {
   "cell_type": "code",
   "execution_count": 36,
   "metadata": {},
   "outputs": [
    {
     "name": "stdout",
     "output_type": "stream",
     "text": [
      "7\n",
      "7\n",
      "1\n",
      "2\n"
     ]
    }
   ],
   "source": [
    "import collections\n",
    "Book = collections.namedtuple(\"Book\", [\"title\",\"author\"])\n",
    "\n",
    "                                       \n",
    "animal_farm = Book(\"animal farm\",\"george orwell\")\n",
    "gatsby = Book(title=\"the great gatsby\", author =\"F.scott\")\n",
    "word = \"dynasty\"\n",
    "print(len(word))\n",
    "print(word.__len__())\n",
    "class library():\n",
    "    def __init__(self, *books):\n",
    "        self.books=books\n",
    "        self.librarians=[]\n",
    "    def __len__(self):\n",
    "        return len(self.books)\n",
    "    \n",
    "l1 = library(animal_farm)\n",
    "l2 = library(animal_farm,gatsby)\n",
    "print(len(l1))\n",
    "print(len(l2))"
   ]
  },
  {
   "cell_type": "markdown",
   "metadata": {},
   "source": [
    "25 . Indexing with the __ getitem __ and __ setitem __ Methods\n",
    "--"
   ]
  },
  {
   "cell_type": "code",
   "execution_count": 38,
   "metadata": {},
   "outputs": [
    {
     "name": "stdout",
     "output_type": "stream",
     "text": [
      "79.99\n",
      "79.99\n"
     ]
    }
   ],
   "source": [
    "pillows = {\n",
    "    \"soft\": 79.99,\n",
    "    \"hard\": 99.99\n",
    "}\n",
    "print(pillows[\"soft\"])\n",
    "print(pillows.__getitem__(\"soft\"))"
   ]
  },
  {
   "cell_type": "code",
   "execution_count": 43,
   "metadata": {},
   "outputs": [
    {
     "name": "stdout",
     "output_type": "stream",
     "text": [
      "blue\n",
      "red\n",
      "yellow\n",
      "yellow\n",
      "red\n"
     ]
    }
   ],
   "source": [
    "class crayonbox():\n",
    "    def __init__(self):\n",
    "        self.crayons = []\n",
    "    def add(self,crayon):\n",
    "        self.crayons.append(crayon)\n",
    "    def __getitem__(self, index):\n",
    "        return self.crayons[index]\n",
    "    def __setitem__(self,index,value):\n",
    "        self.crayons[index]=value\n",
    "    \n",
    "        \n",
    "cb = crayonbox()\n",
    "cb.add(\"blue\")\n",
    "cb.add(\"red\")\n",
    "\n",
    "print(cb[0])\n",
    "print(cb[1])\n",
    "\n",
    "cb[0]=\"yellow\"\n",
    "print(cb[0])\n",
    "for crayon in cb:\n",
    "    print(crayon)"
   ]
  },
  {
   "cell_type": "markdown",
   "metadata": {},
   "source": [
    "26 . The __ del __ method\n",
    "--"
   ]
  },
  {
   "cell_type": "code",
   "execution_count": 47,
   "metadata": {},
   "outputs": [
    {
     "name": "stdout",
     "output_type": "stream",
     "text": [
      "This is my last breadth!\n",
      "program done!\n"
     ]
    }
   ],
   "source": [
    "import time\n",
    "\n",
    "class garbage():\n",
    "    def __del__(self):\n",
    "        print(\"This is my last breadth!\")\n",
    "        \n",
    "g = garbage()\n",
    "\n",
    "g = [1,2,3]\n",
    "\n",
    "time.sleep(5)\n",
    "print(\"program done!\")"
   ]
  },
  {
   "cell_type": "markdown",
   "metadata": {},
   "source": [
    "# Classes : Inheritance"
   ]
  },
  {
   "cell_type": "markdown",
   "metadata": {},
   "source": [
    "**INHERITANCE**"
   ]
  },
  {
   "cell_type": "markdown",
   "metadata": {},
   "source": [
    "it is a design pattern in which a class inherits attributes and methods from one or more other classes.\n",
    "\n",
    "- It helps to organize related classes and reduce duplication.\n",
    "- The class being inherited from is called parent, superclass or base class.\n",
    "- The class that inherits is called the child, subclass or derived class."
   ]
  },
  {
   "cell_type": "markdown",
   "metadata": {},
   "source": [
    "**What is inherited?**\n",
    "\n",
    "- Public and protected attributes beginning with a single underscore are inherited by the subclass as are dunder methods.\n",
    "\n",
    "- private , name-mangled attributes beginning with double underscores are not inherited by the subclass.\n",
    "\n",
    "**Type of Relationship**\n",
    "\n",
    "- A coffeeShop is a type of store\n",
    "- A horse is a type of Animal"
   ]
  },
  {
   "cell_type": "markdown",
   "metadata": {},
   "source": [
    "27 . Define a subclass\n",
    "--"
   ]
  },
  {
   "cell_type": "code",
   "execution_count": 48,
   "metadata": {},
   "outputs": [
    {
     "name": "stdout",
     "output_type": "stream",
     "text": [
      "Falon\n",
      "Lots of stuff to buy, come inside!\n"
     ]
    }
   ],
   "source": [
    "class store():\n",
    "    def __init__(self):\n",
    "        self.owner=\"Falon\"\n",
    "        \n",
    "    def exclaim(self):\n",
    "        return \"Lots of stuff to buy, come inside!\"\n",
    "class coffeeshop(store):\n",
    "    pass\n",
    "\n",
    "starbucks = coffeeshop()\n",
    "\n",
    "print(starbucks.owner)\n",
    "print(starbucks.exclaim())\n",
    "\n",
    "        "
   ]
  },
  {
   "cell_type": "markdown",
   "metadata": {},
   "source": [
    "28 . New Methods on Subclasses\n",
    "--"
   ]
  },
  {
   "cell_type": "code",
   "execution_count": 5,
   "metadata": {},
   "outputs": [
    {
     "name": "stdout",
     "output_type": "stream",
     "text": [
      "I'm working\n",
      "wow, this is fun\n",
      "I'm working\n",
      "wow, this is fun\n",
      "you're fired\n"
     ]
    }
   ],
   "source": [
    "class employee():\n",
    "    def do_work(self):\n",
    "        print(\"I'm working\")\n",
    "        \n",
    "class manager(employee):\n",
    "    def waste_time(self):\n",
    "        print(\"wow, this is fun\")\n",
    "        \n",
    "class director(manager):\n",
    "    def fire_employee(self):\n",
    "        print(\"you're fired\")\n",
    "        \n",
    "e = employee()\n",
    "m = manager()\n",
    "d = director()\n",
    "\n",
    "e.do_work()\n",
    "m.waste_time()\n",
    "d.do_work()\n",
    "d.waste_time()\n",
    "d.fire_employee()"
   ]
  },
  {
   "cell_type": "markdown",
   "metadata": {},
   "source": [
    "29 . Override an Inherited Method on a Subclass\n",
    "--"
   ]
  },
  {
   "cell_type": "code",
   "execution_count": 6,
   "metadata": {},
   "outputs": [
    {
     "name": "stdout",
     "output_type": "stream",
     "text": [
      "teaching stuff\n",
      "yum yum\n",
      "f! f!\n",
      "I'm an author\n"
     ]
    }
   ],
   "source": [
    "class Teacher():\n",
    "    def teach_class(self):\n",
    "        print(\"teaching stuff\")\n",
    "        \n",
    "    def grab_lunch(self):\n",
    "        print(\"yum yum\")\n",
    "    def grade_tests(self):\n",
    "        print(\"f! f!\")\n",
    "        \n",
    "class collegeProfessor(Teacher):\n",
    "    def publish_book(self):\n",
    "        print(\"I'm an author\")\n",
    "        \n",
    "    def grade_tests(self):\n",
    "        print(\"A! A!\")\n",
    "teacher = Teacher()\n",
    "professor = collegeProfessor()\n",
    "\n",
    "teacher.teach_class()\n",
    "teacher.grab_lunch()\n",
    "teacher.grade_tests()\n",
    "\n",
    "professor.publish_book()\n"
   ]
  },
  {
   "cell_type": "markdown",
   "metadata": {},
   "source": [
    "30 . The super function\n",
    "--"
   ]
  },
  {
   "cell_type": "code",
   "execution_count": 12,
   "metadata": {},
   "outputs": [
    {
     "name": "stdout",
     "output_type": "stream",
     "text": [
      "watson\n",
      "Golden retriver\n"
     ]
    }
   ],
   "source": [
    "class Animal():\n",
    "    def __init__(self,name):\n",
    "        self.name = name\n",
    "    def eat(self, food):\n",
    "        return f\"{self.name} is enjoying the {food}\"\n",
    "    \n",
    "class dog(Animal):\n",
    "    def __init__(self,name,breed):\n",
    "        super().__init__(name)\n",
    "        Animal.__init__(name)\n",
    "        self.breed=breed\n",
    "        \n",
    "Watson = dog(\"watson\", \"Golden retriver\")\n",
    "print(Watson.name)\n",
    "print(Watson.breed)"
   ]
  },
  {
   "cell_type": "markdown",
   "metadata": {},
   "source": [
    "31 . Polymorphism I\n",
    "--"
   ]
  },
  {
   "cell_type": "code",
   "execution_count": 14,
   "metadata": {},
   "outputs": [
    {
     "name": "stdout",
     "output_type": "stream",
     "text": [
      "5\n",
      "3\n",
      "4\n",
      "2\n",
      "71\n"
     ]
    }
   ],
   "source": [
    "class person():\n",
    "    def __init__(self,name,height):\n",
    "        self.name=name\n",
    "        self.height=height\n",
    "        \n",
    "    def __len__(self):\n",
    "        return self.height\n",
    "    \n",
    "        \n",
    "\n",
    "values = [\n",
    "    \"Falon\",\n",
    "    [1,2,3],\n",
    "    (4,5,6,7),\n",
    "    {\"a\":1, \"b\":2},\n",
    "    person(name=\"falon\",height=71)\n",
    "]\n",
    "\n",
    "for value in values:\n",
    "    print(len(value))"
   ]
  },
  {
   "cell_type": "markdown",
   "metadata": {},
   "source": [
    "32 . Polymorphism II\n",
    "--"
   ]
  },
  {
   "cell_type": "code",
   "execution_count": 6,
   "metadata": {},
   "outputs": [
    {
     "name": "stdout",
     "output_type": "stream",
     "text": [
      "0.5\n",
      "0.999\n",
      "Run advanced algorithm to calculate best move\n"
     ]
    }
   ],
   "source": [
    "import random\n",
    "class player():\n",
    "    def __init__(self,games_played, victories):\n",
    "        self.games_played=games_played\n",
    "        self.victories=victories\n",
    "        \n",
    "    @property\n",
    "    def win_ratio(self):\n",
    "        return self.victories/self.games_played\n",
    "    \n",
    "class HumanPlayer(player):\n",
    "    def make_move(self):\n",
    "        print(\"let player make the move\")\n",
    "        \n",
    "class computerPlayer(player):\n",
    "    def make_move(self):\n",
    "        print(\"Run advanced algorithm to calculate best move\")\n",
    "        \n",
    "hp = HumanPlayer(games_played = 30, victories = 15)\n",
    "cp = computerPlayer(games_played = 1000, victories = 999)\n",
    "print(hp.win_ratio)\n",
    "print(cp.win_ratio)\n",
    "\n",
    "game_players = [hp,cp]\n",
    "starting_player = random.choice(game_players)\n",
    "starting_player.make_move()\n"
   ]
  },
  {
   "cell_type": "markdown",
   "metadata": {},
   "source": [
    "33 . Name Mangling for privacy\n",
    "--"
   ]
  },
  {
   "cell_type": "code",
   "execution_count": 12,
   "metadata": {},
   "outputs": [
    {
     "name": "stdout",
     "output_type": "stream",
     "text": [
      "Hello\n",
      "Hello\n",
      "This is coming from some_method\n",
      "This is coming from some_method\n"
     ]
    }
   ],
   "source": [
    "class Nonsense():\n",
    "    def __init__(self):\n",
    "        self.__some_attribute=\"Hello\"\n",
    "        \n",
    "    def __some_method(self):\n",
    "        print(\"This is coming from some_method\")\n",
    "        \n",
    "class SpecialNonsense(Nonsense):\n",
    "    pass\n",
    "\n",
    "n = Nonsense()\n",
    "sn = SpecialNonsense()\n",
    "print(n._Nonsense__some_attribute)\n",
    "print(sn._Nonsense__some_attribute)\n",
    "n._Nonsense__some_method()\n",
    "sn._Nonsense__some_method()"
   ]
  },
  {
   "cell_type": "markdown",
   "metadata": {},
   "source": [
    "34 . Multiple Inheritance I: Method Resolution Order\n",
    "--"
   ]
  },
  {
   "cell_type": "code",
   "execution_count": 16,
   "metadata": {},
   "outputs": [
    {
     "name": "stdout",
     "output_type": "stream",
     "text": [
      "putting on the pounds\n",
      "Thawing for 5 minutes\n",
      "putting on the pounds\n",
      "[<class '__main__.IceCream'>, <class '__main__.Dessert'>, <class '__main__.FrozenFood'>, <class 'object'>]\n"
     ]
    }
   ],
   "source": [
    "class FrozenFood():\n",
    "    def thaw(self,minutes):\n",
    "        print(f\"Thawing for {minutes} minutes\")\n",
    "        \n",
    "    def store(self):\n",
    "        print(\"putting on the pounds\")\n",
    "        \n",
    "class Dessert():\n",
    "    def add_weight(self):\n",
    "        print(\"putting on the pounds\")\n",
    "        \n",
    "class IceCream(Dessert, FrozenFood):\n",
    "    pass\n",
    "\n",
    "ic = IceCream()\n",
    "ic.add_weight()\n",
    "ic.thaw(5)\n",
    "ic.store()\n",
    "\n",
    "print(IceCream.mro())\n"
   ]
  },
  {
   "cell_type": "markdown",
   "metadata": {},
   "source": [
    "35 . Multiple Inheritance II: Breadth First Search and Depth First Search\n",
    "--"
   ]
  },
  {
   "cell_type": "code",
   "execution_count": 17,
   "metadata": {},
   "outputs": [
    {
     "name": "stdout",
     "output_type": "stream",
     "text": [
      "Booked a lounge for 2\n",
      "[<class '__main__.BarAndGrill'>, <class '__main__.steakhouse'>, <class '__main__.Resturant'>, <class '__main__.Bar'>, <class 'object'>]\n"
     ]
    }
   ],
   "source": [
    "class Resturant():\n",
    "    def make_resturant(self, party_size):\n",
    "        print(f\"Booked a table for {party_size}\")\n",
    "        \n",
    "class steakhouse(Resturant):\n",
    "    pass\n",
    "\n",
    "class Bar():\n",
    "    def make_reservation(self,party_size):\n",
    "        print(f\"Booked a lounge for {party_size}\")\n",
    "        \n",
    "class BarAndGrill(steakhouse,Bar):\n",
    "    pass\n",
    "bag = BarAndGrill()\n",
    "bag.make_reservation(2)\n",
    "print(BarAndGrill.mro())"
   ]
  },
  {
   "cell_type": "markdown",
   "metadata": {},
   "source": [
    "36 . Multiple Inheritance III: Diamond-Shaped Inheritance\n",
    "--"
   ]
  },
  {
   "cell_type": "code",
   "execution_count": 18,
   "metadata": {},
   "outputs": [
    {
     "name": "stdout",
     "output_type": "stream",
     "text": [
      "I love writing scripts!\n",
      "[<class '__main__.JackOfAllTrades'>, <class '__main__.Director'>, <class '__main__.screenwriter'>, <class '__main__.FilmMaker'>, <class 'object'>]\n"
     ]
    }
   ],
   "source": [
    "class FilmMaker():\n",
    "    def give_interview(self):\n",
    "        print(\"I love making movies\")\n",
    "        \n",
    "class Director(FilmMaker):\n",
    "    pass\n",
    "\n",
    "class screenwriter(FilmMaker):\n",
    "    def give_interview(self):\n",
    "        print(\"I love writing scripts!\")\n",
    "        \n",
    "class JackOfAllTrades(Director,screenwriter):\n",
    "    pass\n",
    "\n",
    "stallone = JackOfAllTrades()\n",
    "stallone.give_interview()\n",
    "print(JackOfAllTrades.mro())   "
   ]
  },
  {
   "cell_type": "markdown",
   "metadata": {},
   "source": [
    "37 . The isinstance Function and issubclass Function\n",
    "--"
   ]
  },
  {
   "cell_type": "code",
   "execution_count": 32,
   "metadata": {},
   "outputs": [
    {
     "name": "stdout",
     "output_type": "stream",
     "text": [
      "<class 'dict'>\n",
      "True\n",
      "True\n",
      "False\n",
      "True\n",
      "True\n",
      "True\n",
      "True\n",
      "True\n",
      "True\n",
      "True\n",
      "True\n",
      "False\n"
     ]
    }
   ],
   "source": [
    "print(type({\"a\":1}))\n",
    "print(isinstance(1,int))\n",
    "print(isinstance({\"a\":1},dict))\n",
    "print(isinstance([],int))\n",
    "print(isinstance([],list))\n",
    "print(isinstance([],object))\n",
    "print(isinstance(str,object))\n",
    "print(isinstance(3.4,object))\n",
    "\n",
    "print(isinstance([],(list,dict,int)))\n",
    "\n",
    "class person():\n",
    "    pass\n",
    "\n",
    "class superHero(person):\n",
    "    pass\n",
    "\n",
    "arnold = person()\n",
    "boris=superHero()\n",
    "\n",
    "print(isinstance(boris,superHero))\n",
    "print(isinstance(boris,person))\n",
    "\n",
    "print(issubclass(superHero,person))\n",
    "print(issubclass(person,superHero))\n"
   ]
  },
  {
   "cell_type": "markdown",
   "metadata": {},
   "source": [
    "38 . Composition\n",
    "--"
   ]
  },
  {
   "cell_type": "code",
   "execution_count": 39,
   "metadata": {},
   "outputs": [
    {
     "name": "stdout",
     "output_type": "stream",
     "text": [
      "['My client is innocent!', 'There is no evidence of a crime!']\n"
     ]
    }
   ],
   "source": [
    "class Paper():\n",
    "    def __init__(self, text, case):\n",
    "        self.text = text\n",
    "        self.case = case\n",
    "\n",
    "class Briefcase():\n",
    "    def __init__(self, price):\n",
    "        self.price = price\n",
    "        self.papers = []\n",
    "\n",
    "    def add_paper(self, paper):\n",
    "        self.papers.append(paper)\n",
    "    \n",
    "    def view_notes(self):\n",
    "        return [paper.text for paper in self.papers]\n",
    "\n",
    "class Lawyer():\n",
    "    def __init__(self, name, briefcase):\n",
    "        self.name = name\n",
    "        self.briefcase = briefcase\n",
    "\n",
    "    def write_note(self, text, case):\n",
    "        paper = Paper(text, case)\n",
    "        self.briefcase.add_paper(paper)\n",
    "\n",
    "    def view_notes(self):\n",
    "        print(self.briefcase.view_notes())\n",
    "\n",
    "cheap_briefcase = Briefcase(price = 19.99)\n",
    "vinny = Lawyer(name = \"Vincent\", briefcase = cheap_briefcase)\n",
    "\n",
    "vinny.write_note(\"My client is innocent!\", \"AS-2ZK1\")\n",
    "vinny.write_note(\"There is no evidence of a crime!\", \"AS-2ZK1\")\n",
    "vinny.view_notes()\n"
   ]
  }
 ],
 "metadata": {
  "kernelspec": {
   "display_name": "Python 3",
   "language": "python",
   "name": "python3"
  },
  "language_info": {
   "codemirror_mode": {
    "name": "ipython",
    "version": 3
   },
   "file_extension": ".py",
   "mimetype": "text/x-python",
   "name": "python",
   "nbconvert_exporter": "python",
   "pygments_lexer": "ipython3",
   "version": "3.8.5"
  }
 },
 "nbformat": 4,
 "nbformat_minor": 4
}
