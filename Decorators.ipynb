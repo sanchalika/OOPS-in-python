{
 "cells": [
  {
   "cell_type": "markdown",
   "metadata": {},
   "source": [
    "Higher Order Functions - I\n",
    "--"
   ]
  },
  {
   "cell_type": "code",
   "execution_count": 1,
   "metadata": {},
   "outputs": [
    {
     "name": "stdout",
     "output_type": "stream",
     "text": [
      "<class 'function'>\n"
     ]
    }
   ],
   "source": [
    "def one():\n",
    "    return 1\n",
    "\n",
    "print(type(one))"
   ]
  },
  {
   "cell_type": "code",
   "execution_count": 3,
   "metadata": {},
   "outputs": [
    {
     "name": "stdout",
     "output_type": "stream",
     "text": [
      "8\n",
      "6\n"
     ]
    }
   ],
   "source": [
    "def add(a,b):\n",
    "    return a+b\n",
    "def substract(a,b):\n",
    "    return a-b\n",
    "def calculate(func, a, b):\n",
    "    return func(a,b)\n",
    "print(calculate(add, 3, 5))\n",
    "print(calculate(substract, 10,4))"
   ]
  },
  {
   "cell_type": "markdown",
   "metadata": {},
   "source": [
    "Nested Functions\n",
    "--"
   ]
  },
  {
   "cell_type": "code",
   "execution_count": 6,
   "metadata": {},
   "outputs": [
    {
     "name": "stdout",
     "output_type": "stream",
     "text": [
      "converting 1 gallos to quarts!\n",
      "converting 4 quarts to pints\n",
      "converting 8 pints to cups\n",
      "16\n",
      "converting 3 gallos to quarts!\n",
      "converting 12 quarts to pints\n",
      "converting 24 pints to cups\n",
      "48\n"
     ]
    }
   ],
   "source": [
    "# Gallons to cups\n",
    "# 1 gallon = 4 quarts\n",
    "# 1 quart = 2 pints\n",
    "# 1 pint = 2 cups\n",
    "\n",
    "def convert_gallons_to_cups(gallons):\n",
    "    def gallons_to_quarts(gallons):\n",
    "        print(f\"converting {gallons} gallos to quarts!\")\n",
    "        return gallons *4\n",
    "    def quarts_to_pints(quarts):\n",
    "        print(f\"converting {quarts} quarts to pints\")\n",
    "        return quarts *2\n",
    "    def pints_to_cups(pints):\n",
    "        print(f\"converting {pints} pints to cups\")\n",
    "        return pints * 2\n",
    "    quarts = gallons_to_quarts(gallons)\n",
    "    pints = quarts_to_pints(quarts)\n",
    "    cups = pints_to_cups(pints)\n",
    "    return cups\n",
    "print(convert_gallons_to_cups(1))\n",
    "print(convert_gallons_to_cups(3))\n",
    "      "
   ]
  },
  {
   "cell_type": "markdown",
   "metadata": {},
   "source": [
    "Higher Order Functions - II\n",
    "--"
   ]
  },
  {
   "cell_type": "code",
   "execution_count": 1,
   "metadata": {},
   "outputs": [
    {
     "name": "stdout",
     "output_type": "stream",
     "text": [
      "14\n",
      "0\n",
      "25\n",
      "125\n",
      "50\n"
     ]
    }
   ],
   "source": [
    "def calculator(operation):\n",
    "    def add(a,b):\n",
    "        return a+b\n",
    "    def subtract(a,b):\n",
    "        return a-b\n",
    "    if operation == \"add\":\n",
    "        return add\n",
    "    elif operation == \"subtract\":\n",
    "        return subtract\n",
    "print(calculator(\"add\")(10,4))\n",
    "print(calculator(\"subtract\")(7,7))\n",
    "def square(num):\n",
    "    return num**2\n",
    "def cube(num):\n",
    "    return num**3\n",
    "def times10(num):\n",
    "    return num * 10\n",
    "operations = [square,cube,times10]\n",
    "\n",
    "for func in operations:\n",
    "    print(func(5))\n"
   ]
  },
  {
   "cell_type": "markdown",
   "metadata": {},
   "source": [
    "Scope I - Global Vs Local Variables\n",
    "--\n",
    "\n",
    "- The locations in a program in which a name can be used"
   ]
  },
  {
   "cell_type": "code",
   "execution_count": 5,
   "metadata": {},
   "outputs": [
    {
     "name": "stdout",
     "output_type": "stream",
     "text": [
      "100\n",
      "28\n"
     ]
    }
   ],
   "source": [
    "age = 28\n",
    "def fancy_func():\n",
    "    age=100\n",
    "    print(age)\n",
    "fancy_func()\n",
    "print(age)"
   ]
  },
  {
   "cell_type": "code",
   "execution_count": 7,
   "metadata": {},
   "outputs": [
    {
     "name": "stdout",
     "output_type": "stream",
     "text": [
      "0.8\n",
      "2.4\n"
     ]
    }
   ],
   "source": [
    "tax_rate=0.08\n",
    "\n",
    "def calculate_tax(price):\n",
    "    return round(price*tax_rate,2)\n",
    "def calculate_tip(price):\n",
    "    return round(price*(tax_rate*3),2)\n",
    "print(calculate_tax(10))\n",
    "print(calculate_tip(10))"
   ]
  },
  {
   "cell_type": "markdown",
   "metadata": {},
   "source": [
    "Scope II-The LEGB Rule\n",
    "--\n",
    "\n",
    "- local/enclosing functions/global/built-in"
   ]
  },
  {
   "cell_type": "code",
   "execution_count": 8,
   "metadata": {},
   "outputs": [
    {
     "name": "stdout",
     "output_type": "stream",
     "text": [
      "5\n"
     ]
    }
   ],
   "source": [
    "def outer():\n",
    "    x=10\n",
    "    def inner():\n",
    "        x=5\n",
    "        return x\n",
    "    return inner()\n",
    "print(outer())"
   ]
  },
  {
   "cell_type": "code",
   "execution_count": 10,
   "metadata": {},
   "outputs": [
    {
     "name": "stdout",
     "output_type": "stream",
     "text": [
      "15\n"
     ]
    }
   ],
   "source": [
    "x = 15\n",
    "def outer():\n",
    "    def inner():\n",
    "        return x\n",
    "    return inner()\n",
    "print(outer())"
   ]
  },
  {
   "cell_type": "code",
   "execution_count": 13,
   "metadata": {},
   "outputs": [
    {
     "name": "stdout",
     "output_type": "stream",
     "text": [
      "<built-in function len>\n"
     ]
    }
   ],
   "source": [
    "def outer():\n",
    "    def inner():\n",
    "        return len\n",
    "    return inner()\n",
    "print(outer())"
   ]
  },
  {
   "cell_type": "code",
   "execution_count": 12,
   "metadata": {},
   "outputs": [
    {
     "name": "stdout",
     "output_type": "stream",
     "text": [
      "6\n"
     ]
    }
   ],
   "source": [
    "def outer():\n",
    "    def inner():\n",
    "        return len\n",
    "    return inner()\n",
    "print(outer()(\"python\"))"
   ]
  },
  {
   "cell_type": "markdown",
   "metadata": {},
   "source": [
    "Scope III-Closures\n",
    "--\n",
    "\n",
    "- A programming pattern in which a scope retains access to an enclosing scope's names "
   ]
  },
  {
   "cell_type": "code",
   "execution_count": 18,
   "metadata": {},
   "outputs": [
    {
     "name": "stdout",
     "output_type": "stream",
     "text": [
      "Snickers\n"
     ]
    }
   ],
   "source": [
    "def outer():\n",
    "    candy = \"Snickers\"\n",
    "    def inner():\n",
    "        return candy\n",
    "    return inner\n",
    "\n",
    "the_func = outer()\n",
    "print(the_func())"
   ]
  },
  {
   "cell_type": "markdown",
   "metadata": {},
   "source": [
    "The Global Keyword\n",
    "--"
   ]
  },
  {
   "cell_type": "code",
   "execution_count": 19,
   "metadata": {},
   "outputs": [
    {
     "name": "stdout",
     "output_type": "stream",
     "text": [
      "10\n",
      "10\n"
     ]
    }
   ],
   "source": [
    "x = 10\n",
    "def change_stuff():\n",
    "    x=15\n",
    "    \n",
    "print(x)\n",
    "change_stuff()\n",
    "print(x)"
   ]
  },
  {
   "cell_type": "code",
   "execution_count": 20,
   "metadata": {},
   "outputs": [
    {
     "name": "stdout",
     "output_type": "stream",
     "text": [
      "10\n",
      "15\n"
     ]
    }
   ],
   "source": [
    "x = 10\n",
    "def change_stuff():\n",
    "    global x\n",
    "    x=15\n",
    "    \n",
    "print(x)\n",
    "change_stuff()\n",
    "print(x)"
   ]
  },
  {
   "cell_type": "code",
   "execution_count": 21,
   "metadata": {},
   "outputs": [
    {
     "name": "stdout",
     "output_type": "stream",
     "text": [
      "15\n"
     ]
    }
   ],
   "source": [
    "# x = 10\n",
    "def change_stuff():\n",
    "    global x\n",
    "    x=15\n",
    "    \n",
    "# print(x)\n",
    "change_stuff()\n",
    "print(x)"
   ]
  },
  {
   "cell_type": "markdown",
   "metadata": {},
   "source": [
    "The Non-Local Keyword\n",
    "--"
   ]
  },
  {
   "cell_type": "code",
   "execution_count": 24,
   "metadata": {},
   "outputs": [
    {
     "name": "stdout",
     "output_type": "stream",
     "text": [
      "black\n"
     ]
    }
   ],
   "source": [
    "def outer():\n",
    "    bubble_tea_flavor=\"black\"\n",
    "    def inner():\n",
    "        #nonlocal bubble_tea_flavor\n",
    "        bubble_tea_flavor=\"Taro\"\n",
    "        \n",
    "    inner()\n",
    "    return bubble_tea_flavor\n",
    "print(outer())"
   ]
  },
  {
   "cell_type": "code",
   "execution_count": 25,
   "metadata": {},
   "outputs": [
    {
     "name": "stdout",
     "output_type": "stream",
     "text": [
      "Taro\n"
     ]
    }
   ],
   "source": [
    "def outer():\n",
    "    bubble_tea_flavor=\"black\"\n",
    "    def inner():\n",
    "        nonlocal bubble_tea_flavor\n",
    "        bubble_tea_flavor=\"Taro\"\n",
    "        \n",
    "    inner()\n",
    "    return bubble_tea_flavor\n",
    "print(outer())"
   ]
  },
  {
   "cell_type": "markdown",
   "metadata": {},
   "source": [
    "Intro to Decorators\n",
    "--"
   ]
  },
  {
   "cell_type": "code",
   "execution_count": 26,
   "metadata": {},
   "outputs": [
    {
     "name": "stdout",
     "output_type": "stream",
     "text": [
      "<function be_nice.<locals>.inner at 0x000002BABEC389D0>\n"
     ]
    }
   ],
   "source": [
    "def be_nice(fn):\n",
    "    def inner():\n",
    "        print(\"Nice to meet you! I'm honoured to execute your function for you\")\n",
    "        fn()\n",
    "        print(\"Its my pleasure executin your function!\")\n",
    "        \n",
    "    return inner\n",
    "def complex_b2b_logic():\n",
    "    print(\"something complex\")\n",
    "    \n",
    "print(be_nice(complex_b2b_logic))"
   ]
  },
  {
   "cell_type": "code",
   "execution_count": 29,
   "metadata": {},
   "outputs": [
    {
     "name": "stdout",
     "output_type": "stream",
     "text": [
      "Nice to meet you! I'm honoured to execute your function for you\n",
      "something complex\n",
      "Its my pleasure executin your function!\n"
     ]
    }
   ],
   "source": [
    "def be_nice(fn):\n",
    "    def inner():\n",
    "        print(\"Nice to meet you! I'm honoured to execute your function for you\")\n",
    "        fn()\n",
    "        print(\"Its my pleasure executin your function!\")\n",
    "        \n",
    "    return inner\n",
    "def complex_b2b_logic():\n",
    "    print(\"something complex\")\n",
    "    \n",
    "result=be_nice(complex_b2b_logic)\n",
    "result()"
   ]
  },
  {
   "cell_type": "code",
   "execution_count": 33,
   "metadata": {},
   "outputs": [
    {
     "name": "stdout",
     "output_type": "stream",
     "text": [
      "Nice to meet you! I'm honoured to execute your function for you\n",
      "go go\n",
      "Its my pleasure executin your function!\n"
     ]
    }
   ],
   "source": [
    "def be_nice(fn):\n",
    "    def inner():\n",
    "        print(\"Nice to meet you! I'm honoured to execute your function for you\")\n",
    "        fn()\n",
    "        print(\"Its my pleasure executin your function!\")\n",
    "        \n",
    "    return inner\n",
    "@be_nice\n",
    "def complex_b2b_logic():\n",
    "    print(\"something complex\")\n",
    "    \n",
    "@be_nice\n",
    "def another():\n",
    "    print(\"go go\")\n",
    "\n",
    "#complex_b2b_logic()\n",
    "another()"
   ]
  },
  {
   "cell_type": "markdown",
   "metadata": {},
   "source": [
    "Arguments with Decorator Functions(*args and ** kwargs)\n",
    "--"
   ]
  },
  {
   "cell_type": "code",
   "execution_count": 5,
   "metadata": {},
   "outputs": [
    {
     "name": "stdout",
     "output_type": "stream",
     "text": [
      "Nice to meet you! I'm honoured to execute your function for you\n",
      "()\n",
      "{'stakeholder': 'sanch', 'hello': True}\n",
      "Its my pleasure executin your function!\n"
     ]
    }
   ],
   "source": [
    "def be_nice(fn):\n",
    "    def inner(*args, **kwargs):\n",
    "        print(\"Nice to meet you! I'm honoured to execute your function for you\")\n",
    "        print(args)\n",
    "        print(kwargs)\n",
    "        #fn()\n",
    "        print(\"Its my pleasure executin your function!\")\n",
    "        \n",
    "    return inner\n",
    "@be_nice\n",
    "def complex_b2b_logic(stakeholder):\n",
    "    print(f\"something complex for {stakeholder}\")\n",
    "    \n",
    "complex_b2b_logic(stakeholder=\"sanch\",hello=True)\n",
    "    "
   ]
  },
  {
   "cell_type": "code",
   "execution_count": 12,
   "metadata": {},
   "outputs": [
    {
     "name": "stdout",
     "output_type": "stream",
     "text": [
      "Nice to meet you! I'm honoured to execute your function for you\n",
      "()\n",
      "{'stakeholder': 'sanch', 'position': 'ceo'}\n",
      "something complex for our ceosanch\n",
      "Its my pleasure executin your function!\n"
     ]
    }
   ],
   "source": [
    "def be_nice(fn):\n",
    "    def inner(*args, **kwargs):\n",
    "        print(\"Nice to meet you! I'm honoured to execute your function for you\")\n",
    "        print(args)\n",
    "        print(kwargs)\n",
    "        fn(*args, **kwargs)\n",
    "        print(\"Its my pleasure executin your function!\")\n",
    "        \n",
    "    return inner\n",
    "@be_nice\n",
    "def complex_b2b_logic(stakeholder, position):\n",
    "    print(f\"something complex for our {position}{stakeholder}\")\n",
    "    \n",
    "complex_b2b_logic(stakeholder=\"sanch\",position=\"ceo\")"
   ]
  },
  {
   "cell_type": "markdown",
   "metadata": {},
   "source": [
    "Returned Values from Decorated Functions\n",
    "--"
   ]
  },
  {
   "cell_type": "code",
   "execution_count": 2,
   "metadata": {},
   "outputs": [
    {
     "name": "stdout",
     "output_type": "stream",
     "text": [
      "Nice to meet you! I'm honoured to execute your function for you\n",
      "Its my pleasure executin your function!\n",
      "8\n"
     ]
    }
   ],
   "source": [
    "def be_nice(fn):\n",
    "    def inner(*args, **kwargs):\n",
    "        print(\"Nice to meet you! I'm honoured to execute your function for you\")\n",
    "        result=fn(*args, **kwargs)\n",
    "        print(\"Its my pleasure executin your function!\")\n",
    "        return result\n",
    "    return inner\n",
    "@be_nice\n",
    "def complex_b2b_sum(a,b):\n",
    "    return a+b\n",
    "    \n",
    "print(complex_b2b_sum(a=3,b=5))"
   ]
  },
  {
   "cell_type": "markdown",
   "metadata": {},
   "source": [
    "The functools.wraps Decorator\n",
    "--"
   ]
  },
  {
   "cell_type": "code",
   "execution_count": 4,
   "metadata": {},
   "outputs": [
    {
     "name": "stdout",
     "output_type": "stream",
     "text": [
      "Help on function inner in module __main__:\n",
      "\n",
      "inner(*args, **kwargs)\n",
      "\n"
     ]
    }
   ],
   "source": [
    "def be_nice(fn):\n",
    "    def inner(*args, **kwargs):\n",
    "        print(\"Nice to meet you! I'm honoured to execute your function for you\")\n",
    "        result=fn(*args, **kwargs)\n",
    "        print(\"Its my pleasure executin your function!\")\n",
    "        return result\n",
    "    return inner\n",
    "@be_nice\n",
    "def complex_b2b_sum(a,b):\n",
    "    \"Adds two numbers together\"\n",
    "    return a+b\n",
    "    \n",
    "help(complex_b2b_sum)"
   ]
  },
  {
   "cell_type": "code",
   "execution_count": 6,
   "metadata": {},
   "outputs": [
    {
     "name": "stdout",
     "output_type": "stream",
     "text": [
      "Help on function complex_b2b_sum in module __main__:\n",
      "\n",
      "complex_b2b_sum(a, b)\n",
      "    Adds two numbers together\n",
      "\n"
     ]
    }
   ],
   "source": [
    "import functools\n",
    "def be_nice(fn):\n",
    "    @functools.wraps(fn)\n",
    "    def inner(*args, **kwargs):\n",
    "        print(\"Nice to meet you! I'm honoured to execute your function for you\")\n",
    "        result=fn(*args, **kwargs)\n",
    "        print(\"Its my pleasure executin your function!\")\n",
    "        return result\n",
    "    return inner\n",
    "@be_nice\n",
    "def complex_b2b_sum(a,b):\n",
    "    \"Adds two numbers together\"\n",
    "    return a+b\n",
    "    \n",
    "help(complex_b2b_sum)"
   ]
  },
  {
   "cell_type": "code",
   "execution_count": 7,
   "metadata": {},
   "outputs": [
    {
     "name": "stdout",
     "output_type": "stream",
     "text": [
      "20\n"
     ]
    }
   ],
   "source": [
    "a = 5\n",
    " \n",
    "def func():\n",
    "  a = 10\n",
    " \n",
    "  def inner_func():\n",
    "    a = 20\n",
    " \n",
    "    def grandchild():\n",
    "      nonlocal a\n",
    "      return(a)\n",
    " \n",
    "    return grandchild()\n",
    " \n",
    "  return inner_func()\n",
    " \n",
    "print(func())"
   ]
  },
  {
   "cell_type": "code",
   "execution_count": 8,
   "metadata": {},
   "outputs": [
    {
     "name": "stdout",
     "output_type": "stream",
     "text": [
      "Python\n",
      "Python\n"
     ]
    }
   ],
   "source": [
    "def run_twice(fn):\n",
    "  def inner(*args, **kwargs):\n",
    "    fn(*args, **kwargs)\n",
    "    fn(*args, **kwargs)\n",
    " \n",
    "  return inner\n",
    " \n",
    "@run_twice\n",
    "def repeater(phrase):\n",
    "  print(phrase)\n",
    " \n",
    "repeater(\"Python\")"
   ]
  }
 ],
 "metadata": {
  "kernelspec": {
   "display_name": "Python 3",
   "language": "python",
   "name": "python3"
  },
  "language_info": {
   "codemirror_mode": {
    "name": "ipython",
    "version": 3
   },
   "file_extension": ".py",
   "mimetype": "text/x-python",
   "name": "python",
   "nbconvert_exporter": "python",
   "pygments_lexer": "ipython3",
   "version": "3.8.5"
  }
 },
 "nbformat": 4,
 "nbformat_minor": 4
}
